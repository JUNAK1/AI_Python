{
  "nbformat": 4,
  "nbformat_minor": 0,
  "metadata": {
    "colab": {
      "name": "ATAQUES.ipynb",
      "provenance": [],
      "collapsed_sections": []
    },
    "kernelspec": {
      "name": "python3",
      "display_name": "Python 3"
    },
    "language_info": {
      "name": "python"
    }
  },
  "cells": [
    {
      "cell_type": "markdown",
      "metadata": {
        "id": "85_40dGTZg0T"
      },
      "source": [
        "*JUAN CAMILO SERRANO CORREA*"
      ]
    },
    {
      "cell_type": "code",
      "metadata": {
        "id": "emBqnIbEB-cf"
      },
      "source": [
        "import tensorflow as tf\n",
        "import keras\n",
        "#tf.compat.v1.disable_eager_execution ()\n",
        "import matplotlib.pyplot as plt\n",
        "import numpy as np\n",
        "from keras.applications.inception_v3 import InceptionV3, decode_predictions\n",
        "from keras import backend as k\n",
        "from keras.preprocessing import image"
      ],
      "execution_count": 67,
      "outputs": []
    },
    {
      "cell_type": "code",
      "metadata": {
        "id": "wLBwtp7JD45W"
      },
      "source": [
        "iv3 = InceptionV3()"
      ],
      "execution_count": 68,
      "outputs": []
    },
    {
      "cell_type": "code",
      "metadata": {
        "id": "WtHKedPIESSF"
      },
      "source": [
        "print(iv3.summary())"
      ],
      "execution_count": null,
      "outputs": []
    },
    {
      "cell_type": "code",
      "metadata": {
        "id": "aP3qlBbjZe5c"
      },
      "source": [
        ""
      ],
      "execution_count": null,
      "outputs": []
    },
    {
      "cell_type": "code",
      "metadata": {
        "colab": {
          "base_uri": "https://localhost:8080/"
        },
        "id": "RQu5cagcEixU",
        "outputId": "b5fc5efb-3ed4-4820-d53e-b718d735e391"
      },
      "source": [
        "x = image.img_to_array(image.load_img(\"/content/lion.jpg\", target_size=(299, 299))) #se importa la imagen y se transforma a un Array para ajustar el tamaño de la imagen automaticamente se usa el target_size\n",
        "\n",
        "x /= 255 #Valores entre 0 y 1\n",
        "x -= 0.5 #valores entre -0.5 y 0.5\n",
        "x *= 2 #Valores entre -1 y 1\n",
        "\n",
        "x = x.reshape([1, x.shape[0], x.shape[1], x.shape[2]])#Se inclucye la dimension del batch\n",
        "\n",
        "y = iv3.predict(x)\n",
        "decode_predictions(y)\n"
      ],
      "execution_count": 70,
      "outputs": [
        {
          "output_type": "stream",
          "name": "stderr",
          "text": [
            "/usr/local/lib/python3.7/dist-packages/keras/engine/training.py:2470: UserWarning: `Model.state_updates` will be removed in a future version. This property should not be used in TensorFlow 2.0, as `updates` are applied automatically.\n",
            "  warnings.warn('`Model.state_updates` will be removed in a future version. '\n"
          ]
        },
        {
          "output_type": "execute_result",
          "data": {
            "text/plain": [
              "[[('n02129165', 'lion', 0.9269946),\n",
              "  ('n04328186', 'stopwatch', 0.0015906388),\n",
              "  ('n02096294', 'Australian_terrier', 0.0014667814),\n",
              "  ('n02128385', 'leopard', 0.0010318541),\n",
              "  ('n02129604', 'tiger', 0.00079344545)]]"
            ]
          },
          "metadata": {},
          "execution_count": 70
        }
      ]
    },
    {
      "cell_type": "markdown",
      "metadata": {
        "id": "8ocW2BXYJnIO"
      },
      "source": [
        "##ATAQUES ADVERSARIOS"
      ]
    },
    {
      "cell_type": "code",
      "metadata": {
        "colab": {
          "base_uri": "https://localhost:8080/",
          "height": 1000
        },
        "id": "_vHCeB2GHyvl",
        "outputId": "e6e8cfa9-6a9d-4d4b-cf20-0ed3f76efc9a"
      },
      "source": [
        "#Modifica capa de entrada, para que prediga otra cosa, siendo la misma imagen\n",
        "inp_layer = iv3.layers[0].input\n",
        "out_layer = iv3.layers[-1].output\n",
        "\n",
        "target_class =951 #probabilidad de acierto\n",
        "loss = out_layer[0, target_class]\n",
        "grad = k.gradients(loss, inp_layer)[0]\n",
        "optimize_gradient = k.function([inp_layer,k.learning_phase()],[grad, loss])\n",
        "#Manipulacion de imagen, con cuidado de que los cambios sean visibles\n",
        "adv = np.copy(x)\n",
        "pert = 0.001\n",
        "max_pert = x + 0.001\n",
        "min_pert = x - 0.001\n",
        "cost = 0.0\n",
        "while cost < 0.95:\n",
        "  gr,cost = optimize_gradient([adv, 0])#Testing mode=0\n",
        "  adv += gr\n",
        "  adv = np.clip(adv,min_pert, max_pert)#Imagen dentro de rango de perturbacion\n",
        "  adv = np.clip(adv, -1, 1)\n",
        "  print(\"Lemon cost\", cost)\n",
        "hacked = np.copy(adv)\n"
      ],
      "execution_count": 71,
      "outputs": [
        {
          "output_type": "stream",
          "name": "stdout",
          "text": [
            "Lemon cost 8.5595646e-05\n",
            "Lemon cost 8.578571e-05\n",
            "Lemon cost 8.597683e-05\n",
            "Lemon cost 8.6166154e-05\n",
            "Lemon cost 8.635533e-05\n",
            "Lemon cost 8.654274e-05\n",
            "Lemon cost 8.672761e-05\n",
            "Lemon cost 8.690796e-05\n",
            "Lemon cost 8.708644e-05\n",
            "Lemon cost 8.726507e-05\n",
            "Lemon cost 8.744505e-05\n",
            "Lemon cost 8.762619e-05\n",
            "Lemon cost 8.780739e-05\n",
            "Lemon cost 8.798846e-05\n",
            "Lemon cost 8.817083e-05\n",
            "Lemon cost 8.8354216e-05\n",
            "Lemon cost 8.853908e-05\n",
            "Lemon cost 8.872419e-05\n",
            "Lemon cost 8.890839e-05\n",
            "Lemon cost 8.909228e-05\n",
            "Lemon cost 8.9278066e-05\n",
            "Lemon cost 8.946622e-05\n",
            "Lemon cost 8.965314e-05\n",
            "Lemon cost 8.983666e-05\n",
            "Lemon cost 9.00205e-05\n",
            "Lemon cost 9.020453e-05\n",
            "Lemon cost 9.038943e-05\n",
            "Lemon cost 9.0572736e-05\n",
            "Lemon cost 9.0759e-05\n",
            "Lemon cost 9.094504e-05\n",
            "Lemon cost 9.113087e-05\n",
            "Lemon cost 9.132196e-05\n",
            "Lemon cost 9.151197e-05\n",
            "Lemon cost 9.1701564e-05\n",
            "Lemon cost 9.189039e-05\n",
            "Lemon cost 9.208019e-05\n",
            "Lemon cost 9.227139e-05\n",
            "Lemon cost 9.246347e-05\n",
            "Lemon cost 9.265994e-05\n",
            "Lemon cost 9.285628e-05\n",
            "Lemon cost 9.305385e-05\n",
            "Lemon cost 9.3250936e-05\n",
            "Lemon cost 9.344722e-05\n",
            "Lemon cost 9.3643655e-05\n",
            "Lemon cost 9.38401e-05\n",
            "Lemon cost 9.403849e-05\n",
            "Lemon cost 9.4238094e-05\n",
            "Lemon cost 9.4439405e-05\n",
            "Lemon cost 9.4642695e-05\n",
            "Lemon cost 9.48467e-05\n",
            "Lemon cost 9.505285e-05\n",
            "Lemon cost 9.526214e-05\n",
            "Lemon cost 9.54714e-05\n",
            "Lemon cost 9.567949e-05\n",
            "Lemon cost 9.588157e-05\n",
            "Lemon cost 9.6084215e-05\n",
            "Lemon cost 9.6288924e-05\n",
            "Lemon cost 9.649288e-05\n",
            "Lemon cost 9.669599e-05\n",
            "Lemon cost 9.6900425e-05\n",
            "Lemon cost 9.710562e-05\n",
            "Lemon cost 9.7314914e-05\n",
            "Lemon cost 9.752684e-05\n",
            "Lemon cost 9.773707e-05\n",
            "Lemon cost 9.794462e-05\n",
            "Lemon cost 9.814899e-05\n",
            "Lemon cost 9.835058e-05\n",
            "Lemon cost 9.855268e-05\n",
            "Lemon cost 9.875324e-05\n",
            "Lemon cost 9.8956094e-05\n",
            "Lemon cost 9.915925e-05\n",
            "Lemon cost 9.9366225e-05\n",
            "Lemon cost 9.9578756e-05\n",
            "Lemon cost 9.979541e-05\n",
            "Lemon cost 0.00010001294\n",
            "Lemon cost 0.00010022963\n",
            "Lemon cost 0.000100446756\n",
            "Lemon cost 0.00010066294\n",
            "Lemon cost 0.0001008816\n",
            "Lemon cost 0.000101099664\n",
            "Lemon cost 0.00010131942\n",
            "Lemon cost 0.00010153584\n",
            "Lemon cost 0.000101750695\n",
            "Lemon cost 0.00010196869\n",
            "Lemon cost 0.000102188504\n",
            "Lemon cost 0.00010240949\n",
            "Lemon cost 0.00010263487\n",
            "Lemon cost 0.00010286442\n",
            "Lemon cost 0.00010309855\n",
            "Lemon cost 0.00010333567\n",
            "Lemon cost 0.00010357939\n",
            "Lemon cost 0.000103826285\n",
            "Lemon cost 0.00010407276\n",
            "Lemon cost 0.00010432239\n",
            "Lemon cost 0.000104566025\n",
            "Lemon cost 0.000104810155\n",
            "Lemon cost 0.000105056264\n",
            "Lemon cost 0.00010530973\n",
            "Lemon cost 0.00010556518\n",
            "Lemon cost 0.00010583297\n",
            "Lemon cost 0.000106096566\n",
            "Lemon cost 0.00010635242\n",
            "Lemon cost 0.00010661187\n",
            "Lemon cost 0.00010685855\n",
            "Lemon cost 0.000107097825\n",
            "Lemon cost 0.00010733516\n",
            "Lemon cost 0.000107572705\n",
            "Lemon cost 0.00010781091\n",
            "Lemon cost 0.00010804813\n",
            "Lemon cost 0.00010828682\n",
            "Lemon cost 0.000108527885\n",
            "Lemon cost 0.00010877161\n",
            "Lemon cost 0.00010901662\n",
            "Lemon cost 0.00010926992\n",
            "Lemon cost 0.00010952933\n",
            "Lemon cost 0.00010978842\n",
            "Lemon cost 0.00011005204\n",
            "Lemon cost 0.0001103209\n",
            "Lemon cost 0.00011059492\n",
            "Lemon cost 0.00011087792\n",
            "Lemon cost 0.0001111653\n",
            "Lemon cost 0.000111449895\n",
            "Lemon cost 0.00011172951\n",
            "Lemon cost 0.00011201478\n",
            "Lemon cost 0.00011230185\n",
            "Lemon cost 0.00011259856\n",
            "Lemon cost 0.00011288888\n",
            "Lemon cost 0.00011317503\n",
            "Lemon cost 0.00011345611\n",
            "Lemon cost 0.00011373196\n",
            "Lemon cost 0.00011400871\n",
            "Lemon cost 0.00011429137\n",
            "Lemon cost 0.00011457785\n",
            "Lemon cost 0.00011487266\n",
            "Lemon cost 0.00011517471\n",
            "Lemon cost 0.00011547258\n",
            "Lemon cost 0.00011576415\n",
            "Lemon cost 0.00011605238\n",
            "Lemon cost 0.00011633473\n",
            "Lemon cost 0.00011662285\n",
            "Lemon cost 0.00011690809\n",
            "Lemon cost 0.00011718539\n",
            "Lemon cost 0.00011745794\n",
            "Lemon cost 0.00011772586\n",
            "Lemon cost 0.00011799523\n",
            "Lemon cost 0.000118265736\n",
            "Lemon cost 0.0001185397\n",
            "Lemon cost 0.00011881895\n",
            "Lemon cost 0.000119110846\n",
            "Lemon cost 0.000119403696\n",
            "Lemon cost 0.000119702694\n",
            "Lemon cost 0.000120002645\n",
            "Lemon cost 0.00012030844\n",
            "Lemon cost 0.00012060367\n",
            "Lemon cost 0.00012088796\n",
            "Lemon cost 0.00012117286\n",
            "Lemon cost 0.00012146031\n",
            "Lemon cost 0.00012174365\n",
            "Lemon cost 0.0001220276\n",
            "Lemon cost 0.00012231704\n",
            "Lemon cost 0.00012260534\n",
            "Lemon cost 0.00012289843\n",
            "Lemon cost 0.0001231968\n",
            "Lemon cost 0.00012349024\n",
            "Lemon cost 0.00012378553\n",
            "Lemon cost 0.00012408271\n",
            "Lemon cost 0.00012437528\n",
            "Lemon cost 0.00012466402\n"
          ]
        },
        {
          "output_type": "error",
          "ename": "KeyboardInterrupt",
          "evalue": "ignored",
          "traceback": [
            "\u001b[0;31m---------------------------------------------------------------------------\u001b[0m",
            "\u001b[0;31mKeyboardInterrupt\u001b[0m                         Traceback (most recent call last)",
            "\u001b[0;32m<ipython-input-71-7251f3fe4492>\u001b[0m in \u001b[0;36m<module>\u001b[0;34m()\u001b[0m\n\u001b[1;32m     14\u001b[0m \u001b[0mcost\u001b[0m \u001b[0;34m=\u001b[0m \u001b[0;36m0.0\u001b[0m\u001b[0;34m\u001b[0m\u001b[0;34m\u001b[0m\u001b[0m\n\u001b[1;32m     15\u001b[0m \u001b[0;32mwhile\u001b[0m \u001b[0mcost\u001b[0m \u001b[0;34m<\u001b[0m \u001b[0;36m0.95\u001b[0m\u001b[0;34m:\u001b[0m\u001b[0;34m\u001b[0m\u001b[0;34m\u001b[0m\u001b[0m\n\u001b[0;32m---> 16\u001b[0;31m   \u001b[0mgr\u001b[0m\u001b[0;34m,\u001b[0m\u001b[0mcost\u001b[0m \u001b[0;34m=\u001b[0m \u001b[0moptimize_gradient\u001b[0m\u001b[0;34m(\u001b[0m\u001b[0;34m[\u001b[0m\u001b[0madv\u001b[0m\u001b[0;34m,\u001b[0m \u001b[0;36m0\u001b[0m\u001b[0;34m]\u001b[0m\u001b[0;34m)\u001b[0m\u001b[0;31m#Testing mode=0\u001b[0m\u001b[0;34m\u001b[0m\u001b[0;34m\u001b[0m\u001b[0m\n\u001b[0m\u001b[1;32m     17\u001b[0m   \u001b[0madv\u001b[0m \u001b[0;34m+=\u001b[0m \u001b[0mgr\u001b[0m\u001b[0;34m\u001b[0m\u001b[0;34m\u001b[0m\u001b[0m\n\u001b[1;32m     18\u001b[0m   \u001b[0madv\u001b[0m \u001b[0;34m=\u001b[0m \u001b[0mnp\u001b[0m\u001b[0;34m.\u001b[0m\u001b[0mclip\u001b[0m\u001b[0;34m(\u001b[0m\u001b[0madv\u001b[0m\u001b[0;34m,\u001b[0m\u001b[0mmin_pert\u001b[0m\u001b[0;34m,\u001b[0m \u001b[0mmax_pert\u001b[0m\u001b[0;34m)\u001b[0m\u001b[0;31m#Imagen dentro de rango de perturbacion\u001b[0m\u001b[0;34m\u001b[0m\u001b[0;34m\u001b[0m\u001b[0m\n",
            "\u001b[0;32m/usr/local/lib/python3.7/dist-packages/keras/backend.py\u001b[0m in \u001b[0;36m__call__\u001b[0;34m(self, inputs)\u001b[0m\n\u001b[1;32m   4030\u001b[0m \u001b[0;34m\u001b[0m\u001b[0m\n\u001b[1;32m   4031\u001b[0m     fetched = self._callable_fn(*array_vals,\n\u001b[0;32m-> 4032\u001b[0;31m                                 run_metadata=self.run_metadata)\n\u001b[0m\u001b[1;32m   4033\u001b[0m     \u001b[0mself\u001b[0m\u001b[0;34m.\u001b[0m\u001b[0m_call_fetch_callbacks\u001b[0m\u001b[0;34m(\u001b[0m\u001b[0mfetched\u001b[0m\u001b[0;34m[\u001b[0m\u001b[0;34m-\u001b[0m\u001b[0mlen\u001b[0m\u001b[0;34m(\u001b[0m\u001b[0mself\u001b[0m\u001b[0;34m.\u001b[0m\u001b[0m_fetches\u001b[0m\u001b[0;34m)\u001b[0m\u001b[0;34m:\u001b[0m\u001b[0;34m]\u001b[0m\u001b[0;34m)\u001b[0m\u001b[0;34m\u001b[0m\u001b[0;34m\u001b[0m\u001b[0m\n\u001b[1;32m   4034\u001b[0m     output_structure = tf.nest.pack_sequence_as(\n",
            "\u001b[0;32m/usr/local/lib/python3.7/dist-packages/tensorflow/python/client/session.py\u001b[0m in \u001b[0;36m__call__\u001b[0;34m(self, *args, **kwargs)\u001b[0m\n\u001b[1;32m   1478\u001b[0m         ret = tf_session.TF_SessionRunCallable(self._session._session,\n\u001b[1;32m   1479\u001b[0m                                                \u001b[0mself\u001b[0m\u001b[0;34m.\u001b[0m\u001b[0m_handle\u001b[0m\u001b[0;34m,\u001b[0m \u001b[0margs\u001b[0m\u001b[0;34m,\u001b[0m\u001b[0;34m\u001b[0m\u001b[0;34m\u001b[0m\u001b[0m\n\u001b[0;32m-> 1480\u001b[0;31m                                                run_metadata_ptr)\n\u001b[0m\u001b[1;32m   1481\u001b[0m         \u001b[0;32mif\u001b[0m \u001b[0mrun_metadata\u001b[0m\u001b[0;34m:\u001b[0m\u001b[0;34m\u001b[0m\u001b[0;34m\u001b[0m\u001b[0m\n\u001b[1;32m   1482\u001b[0m           \u001b[0mproto_data\u001b[0m \u001b[0;34m=\u001b[0m \u001b[0mtf_session\u001b[0m\u001b[0;34m.\u001b[0m\u001b[0mTF_GetBuffer\u001b[0m\u001b[0;34m(\u001b[0m\u001b[0mrun_metadata_ptr\u001b[0m\u001b[0;34m)\u001b[0m\u001b[0;34m\u001b[0m\u001b[0;34m\u001b[0m\u001b[0m\n",
            "\u001b[0;31mKeyboardInterrupt\u001b[0m: "
          ]
        }
      ]
    },
    {
      "cell_type": "code",
      "metadata": {
        "id": "2UskfUOzLSqd"
      },
      "source": [
        "adv /=2\n",
        "adv += 0.5\n",
        "adv *= 255"
      ],
      "execution_count": null,
      "outputs": []
    },
    {
      "cell_type": "code",
      "metadata": {
        "id": "MNPInZ-WLjqc"
      },
      "source": [
        "plt.imshow(adv[0].astype(np.unit8))\n",
        "plt.show()"
      ],
      "execution_count": null,
      "outputs": []
    },
    {
      "cell_type": "code",
      "metadata": {
        "id": "e9oxmRU3Luak"
      },
      "source": [
        "from PIL import Image\n",
        "im = Image.fromarray(adv[0].astype(np.unit8))\n",
        "im,save(\"./hacked.png\")#png"
      ],
      "execution_count": null,
      "outputs": []
    }
  ]
}