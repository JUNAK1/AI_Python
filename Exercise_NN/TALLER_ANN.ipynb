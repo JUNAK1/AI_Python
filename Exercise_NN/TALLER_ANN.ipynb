{
  "nbformat": 4,
  "nbformat_minor": 0,
  "metadata": {
    "colab": {
      "name": "TALLER_ANN2.ipynb",
      "provenance": [],
      "collapsed_sections": []
    },
    "kernelspec": {
      "name": "python3",
      "display_name": "Python 3"
    },
    "language_info": {
      "name": "python"
    }
  },
  "cells": [
    {
      "cell_type": "markdown",
      "metadata": {
        "id": "VfnnDgdjBgTR"
      },
      "source": [
        "***JUAN CAMILO SERRANO CORREA***\n",
        "\n",
        "***RAFAEL FERNANDO LEAL RAMIREZ***"
      ]
    },
    {
      "cell_type": "code",
      "metadata": {
        "id": "6Wa83JmGxDWH"
      },
      "source": [
        "#Sistema\n",
        "import sys \n",
        "import os\n",
        "#Data Sciencie\n",
        "import pandas as pd\n",
        "#numerico\n",
        "import numpy as np\n",
        "#graficas\n",
        "import matplotlib.pyplot as plt\n",
        "import seaborn as sns # estilos de plt\n",
        "#ML\n",
        "import tensorflow as tf\n",
        "import keras \n",
        "from keras.models import Sequential, model_from_json\n",
        "from keras.layers.core import Dense\n",
        "import sklearn \n",
        "from sklearn.model_selection import train_test_split"
      ],
      "execution_count": null,
      "outputs": []
    },
    {
      "cell_type": "code",
      "metadata": {
        "id": "xQGoKjrrla7R"
      },
      "source": [
        "#El dataset de las 25 letras del alfabeto, mas las 4 de error, en orden de 34 bits  (Ver hoja de exel)\n",
        "training_data = np.array([[1,1,1,1,1 ,1,0,0,0,1 ,1,0,0,0,1 ,1,1,1,1,1 ,1,0,0,0,1 ,1,0,0,0,1 ,1,0,0,0,1],[1,1,1,1,1 ,1,0,0,0,1 ,1,0,0,0,1 ,1,1,1,1,1 ,1,0,0,0,1 ,1,0,0,0,1 ,1,1,1,1,1],\n",
        "                          [1,1,1,1,1 ,1,0,0,0,0 ,1,0,0,0,0 ,1,0,0,0,0 ,1,0,0,0,0 ,1,0,0,0,0 ,1,1,1,1,1],[1,1,1,1,0 ,1,0,0,1,1 ,1,0,0,0,1 ,1,0,0,0,1 ,1,0,0,0,1 ,1,0,0,1,1 ,1,1,1,1,0],\n",
        "                          [1,1,1,1,1 ,1,0,0,0,0 ,1,0,0,0,0 ,1,1,1,1,1 ,1,0,0,0,0 ,1,0,0,0,0 ,1,1,1,1,1],[1,1,1,1,1 ,1,0,0,0,0 ,1,0,0,0,0 ,1,1,1,1,1 ,1,0,0,0,0 ,1,0,0,0,0 ,1,0,0,0,0],\n",
        "                          [1,1,1,1,1 ,1,0,0,0,0 ,1,0,0,0,0 ,1,1,1,1,1 ,1,0,0,0,1 ,1,0,0,0,1 ,1,1,1,1,1],[1,0,0,0,1 ,1,0,0,0,1 ,1,0,0,0,1 ,1,1,1,1,1 ,1,0,0,0,1 ,1,0,0,0,1 ,1,0,0,0,1],\n",
        "                          [1,0,0,0,0 ,1,0,0,0,0 ,1,0,0,0,0 ,1,0,0,0,0 ,1,0,0,0,0 ,1,0,0,0,0 ,1,0,0,0,0],[1,1,1,1,1 ,0,0,1,0,0 ,0,0,1,0,0 ,0,0,1,0,0 ,0,0,1,0,0 ,0,0,1,0,0 ,1,1,1,0,0],\n",
        "                          [1,0,0,0,1 ,1,0,0,1,0 ,1,0,1,0,0 ,1,1,0,0,0 ,1,0,1,0,0 ,1,0,0,1,0 ,1,0,0,0,1],[1,0,0,0,0 ,1,0,0,0,0 ,1,0,0,0,0 ,1,0,0,0,0 ,1,0,0,0,0 ,1,0,0,0,0 ,1,1,1,1,1],\n",
        "                          [1,0,0,0,1 ,1,1,0,1,1 ,1,1,1,1,1 ,1,0,1,0,1 ,1,0,1,0,1 ,1,0,0,0,1 ,1,0,0,0,1],[1,1,1,1,1 ,1,0,0,0,1 ,1,0,0,0,1 ,1,0,0,0,1 ,1,0,0,0,1 ,1,0,0,0,1 ,1,0,0,0,1],\n",
        "                          [1,1,1,1,1 ,1,0,0,0,1 ,1,0,0,0,1 ,1,0,0,0,1 ,1,0,0,0,1 ,1,0,0,0,1 ,1,1,1,1,1],[1,1,1,1,1 ,1,0,0,0,1 ,1,0,0,0,1 ,1,1,1,1,1 ,1,0,0,0,0 ,1,0,0,0,0 ,1,0,0,0,0],\n",
        "                          [1,1,1,1,1 ,1,0,0,0,1 ,1,0,0,0,1 ,1,1,1,1,1 ,0,0,0,0,1 ,0,0,0,0,1 ,0,0,0,0,1],[1,1,1,1,1 ,1,0,0,0,1 ,1,0,0,0,1 ,1,1,1,1,1 ,1,1,1,0,0 ,1,0,1,1,0 ,1,0,0,1,1],\n",
        "                          [1,1,1,1,1 ,1,0,0,0,0 ,1,0,0,0,0 ,1,1,1,1,1 ,0,0,0,0,1 ,0,0,0,0,1 ,1,1,1,1,1],[1,1,1,1,1 ,0,0,1,0,0 ,0,0,1,0,0 ,0,0,1,0,0 ,0,0,1,0,0 ,0,0,1,0,0 ,0,0,1,0,0],\n",
        "                          [1,0,0,0,1 ,1,0,0,0,1 ,1,0,0,0,1 ,1,0,0,0,1 ,1,0,0,0,1 ,1,0,0,0,1 ,1,1,1,1,1],[1,0,0,0,1 ,1,0,0,0,1 ,1,0,0,0,1 ,1,1,0,1,1 ,0,1,0,1,0 ,0,1,1,1,0 ,0,0,1,0,0],\n",
        "                          [1,0,1,0,1 ,1,0,1,0,1 ,1,0,1,0,1 ,1,1,1,1,1 ,1,1,1,1,1 ,0,1,0,1,0 ,0,1,0,1,0],[1,0,0,0,1 ,1,1,0,1,1 ,0,1,1,1,0 ,0,0,1,0,0 ,0,1,1,1,0 ,1,1,0,1,1 ,1,0,0,0,1],\n",
        "                          [1,0,0,0,1 ,1,1,0,1,1 ,0,1,1,1,0 ,0,0,1,0,0 ,0,0,1,0,0 ,0,0,1,0,0 ,0,0,1,0,0],[1,1,1,1,1 ,0,0,0,0,1 ,0,0,0,1,1 ,0,1,1,1,0 ,1,1,0,0,0 ,1,0,0,0,0 ,1,1,1,1,1],\n",
        "                          [0,0,1,0,0 ,1,0,0,0,1 ,1,1,0,1,1 ,1,1,0,1,1 ,1,0,1,0,1 ,1,0,1,0,1 ,1,0,1,0,1],[1,1,1,1,1 ,0,0,0,1,0 ,1,0,0,1,0 ,1,0,0,1,0 ,0,0,0,1,0 ,0,0,0,1,0 ,1,1,1,1,0],\n",
        "                          [0,0,0,1,1 ,0,0,0,1,1 ,0,0,0,1,1 ,0,0,0,1,1 ,0,0,0,1,1 ,0,0,0,1,1 ,0,0,0,1,1],[1,1,0,1,1 ,0,1,0,1,0 ,0,1,0,0,0 ,0,0,1,0,1 ,1,1,1,0,0 ,0,0,0,1,0 ,1,0,1,0,0]],\n",
        "                         \"float32\")\n",
        "#respuesta esperada para cada letra, donde A=0 y B=1 ... Z= 29\n",
        "target_data_letters = np.array([[0,0,0,0,0],[0,0,0,0,1],[0,0,0,1,0],[0,0,0,1,1],[0,0,1,0,0],[0,0,1,0,1],[0,0,1,1,0],[0,0,1,1,1],\n",
        "                        [0,1,0,0,0],[0,1,0,0,1],[0,1,0,1,0],[0,1,0,1,1],[0,1,1,0,0],[0,1,1,0,1],[0,1,1,1,0],[0,1,1,1,1],\n",
        "                        [1,0,0,0,0],[1,0,0,0,1],[1,0,0,1,0],[1,0,0,1,1],[1,0,1,0,0],[1,0,1,0,1],[1,0,1,1,0],[1,0,1,1,1],\n",
        "                        [1,1,0,0,0],[1,1,0,0,1],[1,1,0,1,0],[1,1,0,1,1],[1,1,1,0,0],[1,1,1,0,1]],\"float32\")\n",
        "#Respuesta esperada si la letra es vocal o no, donde [AEIOU=1 others=0, Error=1 Correcto=0]\n",
        "target_data_vowels = np.array([[1,0],[0,0],[0,0],[0,0],[1,0],[0,0],[0,0],[0,0],[1,0],[0,0],[0,0],[0,0],[0,0],[0,0],[1,0],[0,0],[0,0],[0,0],[0,0],[0,0],[1,0],[0,0],[0,0],[0,0],[0,0],[0,0],[0,1],[0,1],[0,1],[0,1]],\"float32\")"
      ],
      "execution_count": null,
      "outputs": []
    },
    {
      "cell_type": "code",
      "metadata": {
        "id": "qtauIsTMygqt"
      },
      "source": [
        "#Arquitectura de la ANN (Artificial Neural Network)\n",
        "model = Sequential()\n",
        "model.add(Dense(350, input_dim=35, activation='relu'))#primera capa units=16, input=2, activation = relu\n",
        "model.add(Dense(1000,  activation='tanh'))#Capa de reconocimiento de letra\n",
        "model.add(Dense(5,  activation='sigmoid'))#Capa de salida  5=numero de target  ,sigmoid"
      ],
      "execution_count": null,
      "outputs": []
    },
    {
      "cell_type": "code",
      "metadata": {
        "id": "PHg9V_Xbrlbx"
      },
      "source": [
        "model2 = Sequential()\n",
        "model2.add(Dense(250, input_dim=5, activation='relu'))\n",
        "model2.add(Dense(700,  activation='tanh'))\n",
        "model2.add(Dense(2,  activation='sigmoid'))"
      ],
      "execution_count": null,
      "outputs": []
    },
    {
      "cell_type": "code",
      "metadata": {
        "id": "l_5kmMbY4rUB"
      },
      "source": [
        "#Hiperparámetros para el entrenamiento\n",
        "model.compile(optimizer=\"adam\", loss=\"mean_squared_error\")#categorical_crossentropy\n",
        "model2.compile(optimizer=\"adam\", loss=\"mean_squared_error\")#categorical_crossentropy"
      ],
      "execution_count": null,
      "outputs": []
    },
    {
      "cell_type": "code",
      "metadata": {
        "id": "YAZGofe66Rgr"
      },
      "source": [
        "#dataset_train, dataset_validation = train_test_split(training_data, train_size=0.6,shuffle=True)\n",
        "\n",
        "#Entrenamiento de la ANN\n",
        "model.fit(training_data, target_data_letters, epochs=20)\n",
        "model2.fit(target_data_letters,target_data_vowels, epochs=20)"
      ],
      "execution_count": null,
      "outputs": []
    },
    {
      "cell_type": "code",
      "metadata": {
        "colab": {
          "base_uri": "https://localhost:8080/"
        },
        "id": "Mngog4NN8WKH",
        "outputId": "7c160380-6ae6-4cac-99ff-af8331a180a1"
      },
      "source": [
        "#Validacion del modelo\n",
        "#Aqui deberia probarse con los datos de validation\n",
        "#Pero como nuestro ejemplo es solo un XOR, no hicimos el splitting\n",
        "#por lo tanto usamos los mismos datos de entranamiento\n",
        "\n",
        "testing = model.evaluate(training_data,target_data_letters) #Aqui probamos las letras\n",
        "testing = model2.evaluate(target_data_letters,target_data_vowels) #Aqui probamos las letras"
      ],
      "execution_count": null,
      "outputs": [
        {
          "output_type": "stream",
          "name": "stdout",
          "text": [
            "1/1 [==============================] - 0s 102ms/step - loss: 0.0509\n",
            "1/1 [==============================] - 0s 84ms/step - loss: 0.0847\n"
          ]
        }
      ]
    },
    {
      "cell_type": "code",
      "metadata": {
        "colab": {
          "base_uri": "https://localhost:8080/"
        },
        "id": "G6YJrDJf9ZOk",
        "outputId": "27b476b3-5cf0-4be9-b837-eb02df9061ba"
      },
      "source": [
        "#Hacer predicciones (inferencia)\n",
        "#Vamos a mirar que nos responde al ANN ante un nuevo caso\n",
        "\n",
        "inference = model.predict(training_data)\n",
        "inference2 = model2.predict(target_data_letters)\n",
        "\n",
        "#inference = model.predict([[1,1,1,1,1 ,1,0,0,0,1 ,1,0,0,0,1 ,1,1,1,1,1 ,1,0,0,0,1 ,1,0,0,0,1 ,1,0,0,0,1]])\n",
        "print(\"CAPA 1 LETTERS PREDICTIONS \\n\",inference)\n",
        "print(\"\\nCAPA 2 VOWELS AND ERROS PREDICTIONS \\n\",inference2)"
      ],
      "execution_count": null,
      "outputs": [
        {
          "output_type": "stream",
          "name": "stdout",
          "text": [
            "CAPA 1 LETTERS PREDICTIONS \n",
            " [[0.05167735 0.31895688 0.33015376 0.22587097 0.6139445 ]\n",
            " [0.2563784  0.08176804 0.34568816 0.4154173  0.45832738]\n",
            " [0.03033525 0.438038   0.19520342 0.77694774 0.22427136]\n",
            " [0.12643993 0.3023857  0.16992074 0.8892325  0.8886124 ]\n",
            " [0.06036958 0.06365332 0.83841825 0.32476035 0.2523995 ]\n",
            " [0.011215   0.2884643  0.9195992  0.16434324 0.73704726]\n",
            " [0.14007297 0.02598712 0.7357278  0.7254135  0.09896523]\n",
            " [0.1247423  0.16038716 0.7945881  0.40898398 0.6464284 ]\n",
            " [0.0082269  0.90980774 0.2161476  0.3281539  0.4606858 ]\n",
            " [0.15310937 0.6711127  0.00924885 0.42922613 0.92332   ]\n",
            " [0.03973779 0.82873416 0.05757979 0.90082186 0.09515068]\n",
            " [0.05996829 0.7214117  0.09852207 0.76993036 0.45518926]\n",
            " [0.1138086  0.91912055 0.92407376 0.16627064 0.08162302]\n",
            " [0.02701291 0.808951   0.7813281  0.1617443  0.65146565]\n",
            " [0.15468505 0.43066004 0.73663306 0.5064783  0.3759032 ]\n",
            " [0.02215865 0.6090029  0.6991633  0.0955812  0.9416028 ]\n",
            " [0.90515244 0.07545927 0.07267061 0.24423859 0.13213238]\n",
            " [0.9053536  0.16606677 0.07216942 0.11967841 0.9260628 ]\n",
            " [0.8688664  0.01421151 0.16412136 0.8253777  0.04732606]\n",
            " [0.64662284 0.25832045 0.01505572 0.62026405 0.8760502 ]\n",
            " [0.54268926 0.2939747  0.9384459  0.3694427  0.28257787]\n",
            " [0.99886066 0.02160382 0.92691314 0.1311796  0.922252  ]\n",
            " [0.9912691  0.00250536 0.9348569  0.9409051  0.11006168]\n",
            " [0.98823404 0.05991831 0.9664672  0.89767575 0.9174676 ]\n",
            " [0.97289574 0.8629187  0.05742812 0.11408985 0.08238444]\n",
            " [0.9188161  0.91851753 0.0709902  0.04576322 0.96805096]\n",
            " [0.94116735 0.9361756  0.01361135 0.880466   0.07728738]\n",
            " [0.9366175  0.88775516 0.05944863 0.9162879  0.862502  ]\n",
            " [0.9979145  0.9057505  0.88811725 0.11373577 0.11567202]\n",
            " [0.89849365 0.9187199  0.96802765 0.02563909 0.9752984 ]]\n",
            "\n",
            "CAPA 2 VOWELS AND ERROS PREDICTIONS \n",
            " [[0.52308166 0.3195026 ]\n",
            " [0.11703652 0.06766275]\n",
            " [0.15973055 0.09319195]\n",
            " [0.05269223 0.05814993]\n",
            " [0.5836263  0.06545845]\n",
            " [0.15487948 0.02758828]\n",
            " [0.24542138 0.03204554]\n",
            " [0.07529637 0.020652  ]\n",
            " [0.39364251 0.15754154]\n",
            " [0.10271391 0.090487  ]\n",
            " [0.14167434 0.13730419]\n",
            " [0.04394624 0.0855687 ]\n",
            " [0.3259282  0.12157163]\n",
            " [0.08978692 0.05350628]\n",
            " [0.16644272 0.07512113]\n",
            " [0.04854718 0.04492667]\n",
            " [0.1617617  0.18180457]\n",
            " [0.0498552  0.11410403]\n",
            " [0.05357543 0.15094963]\n",
            " [0.01989651 0.10276741]\n",
            " [0.34827298 0.08310321]\n",
            " [0.09108976 0.04595619]\n",
            " [0.12062547 0.05506039]\n",
            " [0.03725037 0.03826955]\n",
            " [0.11213437 0.3025105 ]\n",
            " [0.03384927 0.20364207]\n",
            " [0.03841475 0.33598053]\n",
            " [0.01332051 0.25098896]\n",
            " [0.1578241  0.20863557]\n",
            " [0.04441717 0.13330162]]\n"
          ]
        }
      ]
    }
  ]
}