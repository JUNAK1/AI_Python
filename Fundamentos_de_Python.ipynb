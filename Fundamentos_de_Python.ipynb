{
  "nbformat": 4,
  "nbformat_minor": 5,
  "metadata": {
    "kernelspec": {
      "display_name": "Python 3",
      "language": "python",
      "name": "python3"
    },
    "language_info": {
      "codemirror_mode": {
        "name": "ipython",
        "version": 3
      },
      "file_extension": ".py",
      "mimetype": "text/x-python",
      "name": "python",
      "nbconvert_exporter": "python",
      "pygments_lexer": "ipython3",
      "version": "3.6.6"
    },
    "colab": {
      "provenance": [],
      "collapsed_sections": [
        "assigned-layout",
        "under-violence",
        "frank-arrival",
        "welsh-mechanism",
        "absolute-class",
        "middle-amsterdam",
        "DwobmJ_1p8ln"
      ]
    }
  },
  "cells": [
    {
      "cell_type": "code",
      "source": [
        " %%html\n",
        "<marquee style='width: 100%; color: black;'><b>Fundamentos de python</b></marquee>"
      ],
      "metadata": {
        "colab": {
          "base_uri": "https://localhost:8080/",
          "height": 38
        },
        "id": "IPCShIYYI0mW",
        "outputId": "74203cf7-b81f-47ae-80d6-16977ae9e30d"
      },
      "id": "IPCShIYYI0mW",
      "execution_count": null,
      "outputs": [
        {
          "output_type": "display_data",
          "data": {
            "text/html": [
              "<marquee style='width: 100%; color: black;'><b>Fundamentos de python</b></marquee>"
            ],
            "text/plain": [
              "<IPython.core.display.HTML object>"
            ]
          },
          "metadata": {}
        }
      ]
    },
    {
      "cell_type": "code",
      "metadata": {
        "colab": {
          "base_uri": "https://localhost:8080/",
          "height": 38
        },
        "id": "Dyciq05_3YG7",
        "outputId": "bc9cccb8-eb59-49c4-8d24-25e5b1d3772c"
      },
      "source": [
        "%%html\n",
        "<marquee style='width: 30%; color: black;'><b>Juan Camilo Serrano Correa!</b></marquee>\n",
        "<marquee style='width: 30%; color: black;'><b>Nelson Eduardo Torres Ribera!</b></marquee>"
      ],
      "id": "Dyciq05_3YG7",
      "execution_count": null,
      "outputs": [
        {
          "output_type": "display_data",
          "data": {
            "text/html": [
              "<marquee style='width: 30%; color: black;'><b>Juan Camilo Serrano Correa!</b></marquee>\n",
              "<marquee style='width: 30%; color: black;'><b>Nelson Eduardo Torres Ribera!</b></marquee>"
            ],
            "text/plain": [
              "<IPython.core.display.HTML object>"
            ]
          },
          "metadata": {}
        }
      ]
    },
    {
      "cell_type": "markdown",
      "source": [
        "# RESUMEN\n",
        "\n",
        "---\n",
        "\n",
        "\n",
        "\n",
        "Esta práctica de laboratorio en programación es afianzar los conocimientos en el lenguaje Python 3, explorando algoritmos, funciones, clases y métodos de compilación, específicamente usando Raspberry Pi OS como herramienta de trabajo, bien sea directamente en la tarjeta de desarrollo o por medio de virtualización.\n",
        "\n",
        "\n",
        "\n"
      ],
      "metadata": {
        "id": "dWI-P72QIxNs"
      },
      "id": "dWI-P72QIxNs"
    },
    {
      "cell_type": "markdown",
      "source": [
        "#INTRODUCCIÓN"
      ],
      "metadata": {
        "id": "Wk5p1PNaJnId"
      },
      "id": "Wk5p1PNaJnId"
    },
    {
      "cell_type": "markdown",
      "source": [
        "El lenguaje de programación de alto nivel Python, tiene una amplia gama de funciones y librerías, que abarcan una amplia múltiples aplicaciones básicas y complejas, además de la facilidad para su compresión, y desarrollo de programas complejos.\n",
        "\n",
        "Python cuenta con una amplia variedad de librerías creadas por Python y por terceros, que amplían la versatilidad de Python.\n"
      ],
      "metadata": {
        "id": "w3NvIMxGv7sR"
      },
      "id": "w3NvIMxGv7sR"
    },
    {
      "cell_type": "markdown",
      "source": [
        "# MARCO TEORICO"
      ],
      "metadata": {
        "id": "kMNI0cJVuNET"
      },
      "id": "kMNI0cJVuNET"
    },
    {
      "cell_type": "markdown",
      "source": [
        "Python es un lenguaje de programación multipropósito de alto nivel , de fácil aprendizaje, de scripting independiente de plataforma, orientado a objetos, e interpretativo(No es necesario compilar para ejecutar aplicaciones escritas en este tipo de lenguaje), que en sus inicios buscaba realizar programación orientada a objetos, sea mucho más sencilla, pero que lo a lo largo de los años su gran versatilidad y fácil comprensión lo destacaron, además de las múltiples funciones y librerías lo hicieron destacar sobre otros lenguaje como el C desplazando incluso a estos mismos.$^{9,10}$"
      ],
      "metadata": {
        "id": "TcfX3fgPv8kj"
      },
      "id": "TcfX3fgPv8kj"
    },
    {
      "cell_type": "markdown",
      "metadata": {
        "id": "hollywood-birth"
      },
      "source": [
        "# Laboratorio 1 - Microprocesadores"
      ],
      "id": "hollywood-birth"
    },
    {
      "cell_type": "markdown",
      "metadata": {
        "id": "bibliographic-divorce"
      },
      "source": [
        "## Laboratorio 1 - Microprocesadores"
      ],
      "id": "bibliographic-divorce"
    },
    {
      "cell_type": "markdown",
      "metadata": {
        "id": "assigned-layout"
      },
      "source": [
        "### Tema : Fundamentos de Python y Raspberry Pi"
      ],
      "id": "assigned-layout"
    },
    {
      "cell_type": "markdown",
      "metadata": {
        "id": "under-violence"
      },
      "source": [
        "### Objetivo\n",
        "\n",
        "El objetivo de esta práctica de laboratorio en programación es afinazar los conocimientos en el lenguaje Python 3, explorando algoritmos, funciones, clases y métodos de compilación, especificamente usando Raspberry Pi OS como herramienta de trabajo, bien sea directamente en la tarjeta de desarrollo o por medio de virtualización"
      ],
      "id": "under-violence"
    },
    {
      "cell_type": "markdown",
      "metadata": {
        "id": "frank-arrival"
      },
      "source": [
        "### Material y Equipo Requerido\n",
        "\n",
        "1. Computador Personal.\n",
        "2. Raspberry PI OS en Virtualización (VirtualBox) / Opcional : Placa Raspberry Pi\n",
        "3. Cualquier IDE o Editor de Texto Plano\n"
      ],
      "id": "frank-arrival"
    },
    {
      "cell_type": "markdown",
      "metadata": {
        "id": "manual-plymouth"
      },
      "source": [
        "### Prólogo e indicaciones generales\n",
        "\n",
        "Sólo hay una manera de aprender a programar : usted mismo tiene que programar. Esto significa que hay que hacer muchos ejercicios. Resolver un ejercicio es un procedimiento de tres etapas. En primer lugar, tiene que estudiar el texto del ejercicio cuidadosamente para entender de qué trata el problema. Los ejercicios de programación tratan sobre un escenario de problemas que debe ser entendido a fondo antes de que tenga sentido entender las preguntas especificas del ejercicio. La segunda fase consiste en escribir el programa. Cuanto mas se esfuerce en la primera fase, más fácil será encontrar las declaraciones correctas y escribir el código. La tercera y última fase consiste en probar el programa y eliminar los errores ( lo que se conoce como depuración y verificación). Este es, con mucho , el mayor reto para todos. Muy a menudo se reduce a escribir el resultado de cada declaración y comprobar estos resultados cuidadosamente con el computador, lápiz y papel."
      ],
      "id": "manual-plymouth"
    },
    {
      "cell_type": "markdown",
      "metadata": {
        "id": "married-hometown"
      },
      "source": [
        "Muchos suelen subestimar la cantidad de trabajo que se requiere en la primera y tercera etapa y, en cambio, tratan de hacer la segunda etapa ( es decir, escribir el programa) lo más rápido posible. Cuánto más trabajo ponga en la primera etapa, más fácil será encontrar un ejemplo que sea similiar al ejercicio y que pueda ayudarle a empezar. Y cuanto más trabjo ponga en la tercera etapa por adelantando, con la construcción de un caso de prueba, mejor será su comprensión de los enunciados y menos errores cometerá. La experiencia le demostrará que todas estas afirmaciones son correctas."
      ],
      "id": "married-hometown"
    },
    {
      "cell_type": "markdown",
      "metadata": {
        "id": "technological-apparel"
      },
      "source": [
        "La mayoria de los ejercicios estan asociados a un nombre de archivo, por ejemplo , ***miejercicio_1***. Si la respuesta al ejercicio es un programa en Python, debe almacenar el programa en un archivo ***miejercicio_1.py*** , o bien mostrar los resultados en un archivo HTML como el que se muestra en pantalla, para mostrar y visualizar resultados en diferentes lineas de ejecución ***laboratorio1.ipynb***. "
      ],
      "id": "technological-apparel"
    },
    {
      "cell_type": "markdown",
      "metadata": {
        "id": "attempted-martial"
      },
      "source": [
        "La ejecución de prueba demuestra que el programa se ejecuta y produce resultados correctos en caso de prueba."
      ],
      "id": "attempted-martial"
    },
    {
      "cell_type": "code",
      "metadata": {
        "id": "ZZvjGMfwmfkz"
      },
      "source": [
        "import matplotlib as plt\n",
        "import random\n",
        "import platform\n",
        "import numpy as np"
      ],
      "id": "ZZvjGMfwmfkz",
      "execution_count": null,
      "outputs": []
    },
    {
      "cell_type": "markdown",
      "metadata": {
        "id": "biblical-environment"
      },
      "source": [
        "## Parte 1, Programación"
      ],
      "id": "biblical-environment"
    },
    {
      "cell_type": "markdown",
      "metadata": {
        "id": "sunrise-frost"
      },
      "source": [
        "### 1. Conversión de metros a unidades de longitudes británicas. \n",
        "Haga un programa dinámico (pidiéndole datos al usuario directamente), en el que establezca una longitud dada en metros y luego calcule y escriba la longitud correspondiente en pulgadas, en pies, en yardas y en millas. Utilice el equivalente de una pulgada como 2,54 cm , un pie es 12 pulgadas, una yarda es 3 pies, y una milla británica es 1760 yardas. Para comprobarlo, una longitud de 640 metros corresponde a 25196,85 pulgadas, 2099,74 pies , 699,91 yardas o 0,3977 millas"
      ],
      "id": "sunrise-frost"
    },
    {
      "cell_type": "code",
      "metadata": {
        "colab": {
          "base_uri": "https://localhost:8080/"
        },
        "id": "6WOe3aZambqP",
        "outputId": "38b82602-b65a-4e1e-9cf5-b6f673f4900b"
      },
      "source": [
        "Medida = float(input(\"Introduce la longitud en metros: \"))\n",
        "# print (\"La longitud que ingreso es:\\n\",Medida)"
      ],
      "id": "6WOe3aZambqP",
      "execution_count": null,
      "outputs": [
        {
          "name": "stdout",
          "output_type": "stream",
          "text": [
            "Introduce la longitud en metros: 10\n"
          ]
        }
      ]
    },
    {
      "cell_type": "markdown",
      "metadata": {
        "id": "H_KYgigwmpCt"
      },
      "source": [
        "Primero se realiza la conversión de metros a centímetros, posteriormente se realiza la conversión a pulgadas.\n",
        "\n",
        "La conversión de realiza mediante la siguiente ecuación.\n",
        "\n",
        "$Pulgadas=\\frac{Medida*100}{2.54}$"
      ],
      "id": "H_KYgigwmpCt"
    },
    {
      "cell_type": "code",
      "metadata": {
        "colab": {
          "base_uri": "https://localhost:8080/"
        },
        "id": "mYvDwX7kmtsf",
        "outputId": "022ec33a-7432-4d85-c245-a7f6b9d3948c"
      },
      "source": [
        "#Calculo de la longitud en pulagadas\n",
        "Pul=float((Medida*100)/2.54)\n",
        "print(\"La longitud en pulgadas equivale:\\n\",Pul)\n",
        "#Calculo de la  longitud en pies\n",
        "Pies=float(Pul/12)\n",
        "print(\"La longitud en pies equivale:\\n\",Pies)\n",
        "#Calculo de la longitud en yardas\n",
        "Yarda=float(Pies/3)\n",
        "print(\"La longitud en yardas equivale:\\n\",Yarda)\n",
        "#Calculo de la longitud en millas\n",
        "Milla=float(Yarda/1760)\n",
        "print(\"La longitud en millas equivale:\\n\",Milla)"
      ],
      "id": "mYvDwX7kmtsf",
      "execution_count": null,
      "outputs": [
        {
          "output_type": "stream",
          "name": "stdout",
          "text": [
            "La longitud en pulgadas equivale:\n",
            " 393.7007874015748\n",
            "La longitud en pies equivale:\n",
            " 32.808398950131235\n",
            "La longitud en yardas equivale:\n",
            " 10.936132983377078\n",
            "La longitud en millas equivale:\n",
            " 0.00621371192237334\n"
          ]
        }
      ]
    },
    {
      "cell_type": "markdown",
      "metadata": {
        "id": "labeled-lecture"
      },
      "source": [
        "### 2. Calcular el crecimiento del dinero en un banco.\n",
        "Sea $P$ el tipo de interés de un banco en porcentaje anual. Una cantidad inicial $A$ ha crecido hasta convertirse en :\n",
        "\n",
        "$A * ( 1 + \\frac{P}{100})^{n}$\n",
        "\n",
        "deespués de $n$ años. Haga un programa para calcular y mostrar en pantalla a cuánto dinero ha ascendido 2390 euros después de tres años con una tasa de interés del 5%."
      ],
      "id": "labeled-lecture"
    },
    {
      "cell_type": "code",
      "metadata": {
        "colab": {
          "base_uri": "https://localhost:8080/"
        },
        "id": "3GDgQtOo_ll9",
        "outputId": "d2d30b07-5689-4b07-9393-5ae60315a9ed"
      },
      "source": [
        "P = 5 #Tasa de interes anual\n",
        "n = 3   #Numero de años\n",
        "A = 2390  #Cantidad inicial\n",
        "X = 0     #Total a pagar\n",
        "X = A*(1+(P/100))**n\n",
        "print(\"La cantidad a pagar es: \",X, \"€\")"
      ],
      "id": "3GDgQtOo_ll9",
      "execution_count": null,
      "outputs": [
        {
          "output_type": "stream",
          "name": "stdout",
          "text": [
            "La cantidad a pagar es:  2766.72375 €\n"
          ]
        }
      ]
    },
    {
      "cell_type": "markdown",
      "metadata": {
        "id": "empty-portuguese"
      },
      "source": [
        "### 3. Cocer el Huevo Perfecto.\n",
        "\n",
        "Al cocinar un huevo, las proteínas primero se desnaturalizan y luego se coagulan. Cuando la temperatura supera un punto crítico, las reacciones comienzan y se aceleran a medida que aumenta la temperatura. En la clara, las proteínas comienzan a coagularse a partir de los $63°C$, mientras que en la yema lo hacen a partir de los $70°C$. Para un huevo cocido blanco, la clara tiene que haberse calentado lo suficnete para coagular a una temperatura superior a $63°C$, pero la yema no debe calentarse por encima de $70°C$. Para un huevo duro, se debe dejar que el centro de la yema alcance los $70°C$. La siguiente formula expresa el tiempo $t$ que tarda ( en segundos), el centro de la yema en alcanzar la temperatura $T_{y}$ (En grados Celsius): \n",
        "\n",
        "$t = \\frac{M^{2/3}*c*\\rho^{1/3}}{K*\\pi^{2} * (4*\\pi /3)^{2/3}} *Ln [ 0.76 * \\frac{T_{0} -T_{w} }{T_{y} - T_{w}}]$\n",
        "\n",
        "Aqui, $M$, $\\rho$ , $c$ y $K$ son propiedades del huevo :  $M$, es la masa, $\\rho$ es la densidad , $c$ es la capacidad calorífica especifica y $K$ es la conductividad térmica. Los valores relevantes son $M = 47g$ para un huevo pequeño y $M = 67 g$ para un huevo grande, $\\rho = 1.038 g cm^{3}$, y $K = 5,4 * 10^{-3} W cm^{-1} K^{-1}$. Además, $T_{w}$, es la temperatura (en $°C$) del agua hirviendo, y $T_{0}$ es la temperatura original (en $°C$) del huevo nates de ser puesto en el agua. Implemente la fórmula en un programa, establezca que  $T_{w} = 98°C$ y  $T_{y} = 70°C$, y calcule y muestre en pantalla $t$ para un huevo grande sacado de la nevera $(T_{0} = 3 °C)$ , y de la temperatura ambiente $(T_{0} = 16 °C)$"
      ],
      "id": "empty-portuguese"
    },
    {
      "cell_type": "code",
      "metadata": {
        "colab": {
          "base_uri": "https://localhost:8080/"
        },
        "id": "1g4T6Q7enNDj",
        "outputId": "e880420d-969e-4589-8aea-3a1ae086e14c"
      },
      "source": [
        "import numpy as np\n",
        "Tw=98 #Temperatura del agua hirviendo\n",
        "Ty=70 #Temperatura del centro de la yema que desea alcanzar\n",
        "To1=3 #Temperatura del huevo sacadao de la nevera\n",
        "To2=16  #Temperatura ambiente\n",
        "p=float(1.038)  # Densidad del huevo\n",
        "K=float(0.0045) # Conductividad termica\n",
        "c=3.7   #Capacidad calorifica especifica del huevo\n",
        "pi=np.pi    # Constante pi\n",
        "M=float(input(\"Ingrese la masa del Huevo:\"))#Ingreso de la masa  del  huevo\n",
        "#Ecuacion de calculo del tiempo de coccion de un huevo\n",
        "t=((np.power(M,2/3))*c*(np.power(p,1/3)))/(K*(np.power(pi,2))*(np.power(4*pi/3,2/3)))*np.log(0.76*((To2-To1-Tw)/(Ty-Tw)))\n",
        "print(\"El tiempo de coccion del huevo en segundos equivale a:\\n\",t,\"s\")"
      ],
      "id": "1g4T6Q7enNDj",
      "execution_count": null,
      "outputs": [
        {
          "output_type": "stream",
          "name": "stdout",
          "text": [
            "Ingrese la masa del Huevo:15\n",
            "El tiempo de coccion del huevo en segundos equivale a:\n",
            " 165.05743933063127 s\n"
          ]
        }
      ]
    },
    {
      "cell_type": "markdown",
      "metadata": {
        "id": "official-artwork"
      },
      "source": [
        "### 4. Números Aleatorios. \n",
        "Cree un programa que genere $100$ números aleatorios y encuentre la frecuencia de cada número. Que se muestre en Pantalla la frecuencia de cada número"
      ],
      "id": "official-artwork"
    },
    {
      "cell_type": "code",
      "metadata": {
        "id": "rSIAS0MVCR5a",
        "colab": {
          "base_uri": "https://localhost:8080/"
        },
        "outputId": "28be7138-4dd8-4907-a997-06c9af5509dd"
      },
      "source": [
        "Randoms = [] #Cadena de numeros aleatorios\n",
        "Data = {} # Almacena la frecuencia que se repite cada numero\n",
        "print('Digite rango de variacion de numeros aleatorios, si no sabe digite 10')\n",
        "Y = int(input())#Hasta que valor se realizan los numeros aleatorios\n",
        "\n",
        "for i in range(100):#Itera 100 veces\n",
        "  Randoms.append(random.randrange(Y))\n",
        "for n in Randoms:\n",
        "  if n in Data:\n",
        "    Data[n] += 1\n",
        "  else:\n",
        "    Data[n] = 1\n",
        "print(Data)"
      ],
      "id": "rSIAS0MVCR5a",
      "execution_count": null,
      "outputs": [
        {
          "output_type": "stream",
          "name": "stdout",
          "text": [
            "Digite rango de variacion de numeros aleatorios, si no sabe digite 10\n",
            "10\n",
            "{5: 8, 6: 11, 2: 12, 9: 12, 8: 10, 3: 12, 4: 12, 7: 6, 1: 12, 0: 5}\n"
          ]
        }
      ]
    },
    {
      "cell_type": "markdown",
      "metadata": {
        "id": "welsh-mechanism"
      },
      "source": [
        "### 5. Lector de titulares. \n",
        "Escriba un programa Python para obtener las principales historias de las noticias de Google. ***(Revise los paquetes o librerias BeautifulSoup de bs4, url.request)***. si requiere usar librerias adicionales, haga uso del instalador ***PIP***. Documente en su informe apropiadamente los pasos para instalar las librerias requeridas."
      ],
      "id": "welsh-mechanism"
    },
    {
      "cell_type": "markdown",
      "metadata": {
        "id": "QL3EtCTMnmXw"
      },
      "source": [
        "### solución $^{1,2,3}$\n",
        "\n",
        "Primero realizamos la instalación de las librerías que se necesitan.\n",
        "\n",
        "Se emplean las siguientes líneas de comandos para su instalación en jupyter notebook\n",
        "\n",
        "```\n",
        "!pip install beautifulsoup4\n",
        "```\n",
        "Librería usada para analizar los datos HTML, y con lo cual Python los pueda entender:\n",
        "```\n",
        "!pip install lxml*\n",
        "```\n",
        "Librería usada para hacer requerimientos en HTML:\n",
        "```\n",
        "!pip install requests\n",
        "```\n",
        "\n",
        "\n"
      ],
      "id": "QL3EtCTMnmXw"
    },
    {
      "cell_type": "code",
      "metadata": {
        "id": "7d1SLC3RnpcU",
        "colab": {
          "base_uri": "https://localhost:8080/"
        },
        "outputId": "baae8078-47bf-483b-8159-50fbcc0f453b"
      },
      "source": [
        "#!pip install beautifulsoup4\n",
        "from bs4 import BeautifulSoup \n",
        "\n",
        "# Comandos de instalcion de las librerias lxml y request\n",
        "# !pip install lxml\n",
        "# !pip install requests\n",
        "\n",
        "import requests\n",
        "import lxml\n",
        "\n",
        "# Pagina en formato XML la cual permite la  identificacion de las noticoas de forma mas sencilla\n",
        "Page=requests.get('https://news.google.com/rss?hl=es-419&gl=CO&ceid=CO:es-419') #accediendo a la pagina web\n",
        "soup = BeautifulSoup(Page.text, 'lxml') # Representacion de la pagina de forma anidada\n",
        "\n",
        "# Representacion de la pagina en formato anidado \n",
        "##print(soup.prettify())\n",
        "\n",
        "#Encontrar las pricipales noticias que estan ramificadas en la estructura  como item\n",
        "items=soup.find_all('item')\n",
        "\n",
        "#Presentación de los titulos de las noticias destacadas\n",
        "for item in items:\n",
        "    print (item.title.text)\n",
        "    print ('=' * 70)"
      ],
      "id": "7d1SLC3RnpcU",
      "execution_count": null,
      "outputs": [
        {
          "output_type": "stream",
          "name": "stdout",
          "text": [
            "¿Por qué se investiga un presunto caso de lavado de activos vinculado a Mauricio Leal? - Revista Semana\n",
            "======================================================================\n",
            "“Gracias a todos los colombianos”: el mensaje de Víctor Escobar por su eutanasia - El Espectador\n",
            "======================================================================\n",
            "Hay menos de 12.000 casos activos de covid en Colombia - Portafolio\n",
            "======================================================================\n",
            "Autoridades piden mantenerse alerta ante actividad del Nevado del Ruiz - El Tiempo\n",
            "======================================================================\n",
            "Pilotos comerciales en Colombia: ¿cuánto ganan y tienen que pagar para poder trabajar? - Pulzo\n",
            "======================================================================\n",
            "¿Recuperación económica hizo temblar a la economía mundial en 2021? - Portafolio\n",
            "======================================================================\n",
            "\"En 16 meses estarán construidos los centros de conexión del caso Centros Poblados\": MinTIC - Blu Radio\n",
            "======================================================================\n",
            "Solo 6 de 52 precandidatos lograron oficializar su aspiración presidencial - El Heraldo (Colombia)\n",
            "======================================================================\n",
            "Triple A suspende servicio en sectores de Barranquilla y Soledad - EL HERALDO\n",
            "======================================================================\n",
            "Las cifras del COVID-19 en Cartagena y Bolívar este 17 de diciembre - El Universal - Colombia\n",
            "======================================================================\n",
            "¿La venganza de los simios?: grupo de monos ha matado alrededor de 250 cachorros - Noticias Caracol\n",
            "======================================================================\n",
            "Directivo de Pfizer pronostica cuándo se terminaría la pandemia de la covid-19 - Revista Semana\n",
            "======================================================================\n",
            "La falsa noticia sobre un hombre transespecie en la que cayó María Fernanda Cabal - El País Cali\n",
            "======================================================================\n",
            "Expulsan de avión a pasajero por usar una tanga como tapabocas - El Tiempo\n",
            "======================================================================\n",
            "Lotería de Medellín y Santander: números que cayeron en el sorteo de diciembre 17 - Pulzo\n",
            "======================================================================\n",
            "Nutresa analiza vinculación de socios y cita asamblea de accionistas - El Colombiano\n",
            "======================================================================\n",
            "Dólar hoy en Colombia; así quedó la TRM para el fin de semana del 18 al 20 de diciembre - Pulzo\n",
            "======================================================================\n",
            "El Emisor sube a 3 % su tasa y deja en 9,8 % su proyección del PIB - El Tiempo\n",
            "======================================================================\n",
            "Así puedes enviar un texto invisible por WhatsApp, sin necesidad de instalar nada - Marca Claro Colombia\n",
            "======================================================================\n",
            "WhatsApp: ¿adiós a las capturas de pantalla? Llega la tercera palomita azul que avisará esta acción - Blu Radio\n",
            "======================================================================\n",
            "WhatsApp: Truco para poner un gorro de santa al ícono de la app - Show\n",
            "======================================================================\n",
            "El sobrevuelo de Juno revela impresionantes imágenes nuevas de Júpiter y los sonidos de su luna Ganímedes - CNN\n",
            "======================================================================\n",
            "Jessi Uribe se quedó sin voz en pleno concierto, ¿qué le pasó? - Vanguardia\n",
            "======================================================================\n",
            "Luis Alberto Posada, furor en redes sociales por beso con otro hombre - El Tiempo\n",
            "======================================================================\n",
            "Amparo Grisales explicó que es el ovovegetarianismo, la clave de su cuerpazo - W Radio\n",
            "======================================================================\n",
            "Érika Zapata, de Noticias Caracol, dio nuevo valioso paso: \"Lo importante es el esfuerzo\" - Pulzo\n",
            "======================================================================\n",
            "Video | ¡Gambeta y al ángulo! Nuevo golazo de Juan Guillermo Cuadrado con la Juventus - Revista Semana\n",
            "======================================================================\n",
            "Gustavo Costas y la razón por la que le dijo 'No' al Junior - Antena 2\n",
            "======================================================================\n",
            "El calendario del fútbol colombiano, contra el tiempo en 2022: las fechas no dan - Marca Claro Colombia\n",
            "======================================================================\n",
            "Rayo Vallecano no sufrió: reviva la victoria en el regreso de Falcao - FutbolRed\n",
            "======================================================================\n",
            "Los síntomas, hasta ahora conocidos, de la variante ómicron - Portafolio\n",
            "======================================================================\n",
            "El ejercicio podría retrasar el envejecimiento, según una investigación - ElTiempo.com\n",
            "======================================================================\n"
          ]
        }
      ]
    },
    {
      "cell_type": "markdown",
      "metadata": {
        "id": "hawaiian-johns"
      },
      "source": [
        "### 6. Información del Sistema\n",
        "Escriba un programa Python para obtener una lista de los modulos Python instalados localmente, mostrar información sobre el sistema operativo en el que se esta ejecutando el script, mostrar la información sobre el procesador y recursos del sistema como memoria ram disponible, memoria ram total, memoria ram usada, frecuencia de reloj del procesador, y número de núcleos ***(Revise pkg_resources y platform)***, puede usar otras librerías según sea necesario."
      ],
      "id": "hawaiian-johns"
    },
    {
      "cell_type": "code",
      "metadata": {
        "id": "tWmpqYBPQYyT",
        "colab": {
          "base_uri": "https://localhost:8080/"
        },
        "outputId": "b13709f6-88af-4c34-fc1d-4d6c10603638"
      },
      "source": [
        "print('Operating System : ', platform.system())\n",
        "print('Hostname : ', platform.node())\n",
        "print(\"Machine : \", platform.machine())\n",
        "print(\"Processor : \", platform.processor())\n",
        "print(\"Release : \", platform.release())\n",
        "print(\"Version : \", platform.version())\n",
        "print('Platform architecture:', platform.architecture())"
      ],
      "id": "tWmpqYBPQYyT",
      "execution_count": null,
      "outputs": [
        {
          "output_type": "stream",
          "name": "stdout",
          "text": [
            "Operating System :  Linux\n",
            "Hostname :  3773dc82c6c5\n",
            "Machine :  x86_64\n",
            "Processor :  x86_64\n",
            "Release :  5.4.104+\n",
            "Version :  #1 SMP Sat Jun 5 09:50:34 PDT 2021\n",
            "Platform architecture: ('64bit', '')\n"
          ]
        }
      ]
    },
    {
      "cell_type": "markdown",
      "metadata": {
        "id": "absolute-class"
      },
      "source": [
        "### 7. Multiprocesos en Python\n",
        "\n",
        "Escriba un proceso que calcule el cuadrado de números e imprime los resultados en la consola. Realize el mismo programa enfocado en el desarrollo de multiprocesos. Leer la siguiente página web  : https://code.tutsplus.com/es/tutorials/introduction-to-multiprocessing-in-python--cms-30281"
      ],
      "id": "absolute-class"
    },
    {
      "cell_type": "markdown",
      "metadata": {
        "id": "7vs__nUtojPy"
      },
      "source": [
        "### Solución\n",
        "\n",
        "#### Solucion #1 Desarrollo general"
      ],
      "id": "7vs__nUtojPy"
    },
    {
      "cell_type": "code",
      "metadata": {
        "colab": {
          "base_uri": "https://localhost:8080/"
        },
        "id": "Gh2k8SmDor7k",
        "outputId": "3c34cd98-2936-4397-acf3-376e378974e9"
      },
      "source": [
        "numero=float(input(\"Ingrese el numero al cual desea calcular el cuadrado: \"))   #Comando para el ingresos del numero\n",
        "\n",
        "Cuadrado= numero*numero     #Operacion basica para el calculo del cuadrado de un numero.\n",
        "\n",
        "print(\"El cuadrado de\",numero,\"equivale  a :\",Cuadrado )"
      ],
      "id": "Gh2k8SmDor7k",
      "execution_count": null,
      "outputs": [
        {
          "output_type": "stream",
          "name": "stdout",
          "text": [
            "Ingrese el numero al cual desea calcular el cuadrado: 25\n",
            "El cuadrado de 25.0 equivale  a : 625.0\n"
          ]
        }
      ]
    },
    {
      "cell_type": "markdown",
      "metadata": {
        "id": "DMQLhYEAoyBr"
      },
      "source": [
        "#### Solucion #2 programa enfocado en el desarrollo de multiprocesos $^{4}$\n",
        "\n",
        "Importación de la  libreria de procces"
      ],
      "id": "DMQLhYEAoyBr"
    },
    {
      "cell_type": "code",
      "metadata": {
        "colab": {
          "base_uri": "https://localhost:8080/"
        },
        "id": "IiCIm95loznQ",
        "outputId": "a3e8c017-585c-4648-a803-45cf21226a52"
      },
      "source": [
        "from multiprocessing import Process \n",
        "\n",
        "def cuadrado(x): # Definicion de la funcion\n",
        "        y=x*x\n",
        "        print(\"El cuadrado de: \",x ,\" equivalea: \",y) #Presentacion del cuadrado del numero ingresado\n",
        "\n",
        "if __name__ == '__main__':\n",
        "    z=float(input(\"Ingrese el numero: \"))\n",
        "    p = Process(target=cuadrado, args=(z,)) # Creacion del proceso \n",
        "    p.start() #Iniciar proceso\n",
        "    p.join()  #Finalizar proceso"
      ],
      "id": "IiCIm95loznQ",
      "execution_count": null,
      "outputs": [
        {
          "output_type": "stream",
          "name": "stdout",
          "text": [
            "Ingrese el numero: 50\n",
            "El cuadrado de:  50.0  equivalea:  2500.0\n"
          ]
        }
      ]
    },
    {
      "cell_type": "markdown",
      "metadata": {
        "id": "greenhouse-yorkshire"
      },
      "source": [
        "### 8. Convertir Palabras numéricas en números:\n",
        "A veces, al trabajar con cadenas en python, podemos tener un problema en el que necesitamos convertir las cadenas de texto a números reales. Esto tiene aplicación en dominios matemáticos y en dominios de datos. Realice un programa dinámico que convierta palabras de números en verdaderos núemros. Considere el ejemplo:\n",
        "\n",
        "***Entrada del programa : \" setenta y cuatro\"***\n",
        "\n",
        "***Salida del programa : 74***\n",
        "\n",
        "***Entrada del programa : \"menos veintitres\"***\n",
        "\n",
        "***Salida del programa : -23***\n",
        "\n",
        "El rango de entrada debe ser $-9999$ a $9999$. El programa debe ser lo más óptimo posible y esto influye en la ponderación de calificación para este ejercicio ( P. Ej. No usar un $if$ para cada caso)"
      ],
      "id": "greenhouse-yorkshire"
    },
    {
      "cell_type": "code",
      "metadata": {
        "colab": {
          "base_uri": "https://localhost:8080/"
        },
        "id": "CnJn_ykcRLa4",
        "outputId": "84eb6543-e566-4c53-933d-4c073a5d9934"
      },
      "source": [
        "#https://www.it-swarm-es.com/es/python/hay-una-manera-de-convertir-palabras-de-numeros-numeros-enteros/958175926/\n",
        "def text2int(textnum, numwords={}):\n",
        "    if not numwords:\n",
        "      units = [\n",
        "        \"cero\", \"uno\", \"dos\", \"tres\", \"cuatro\", \"cinco\", \"seis\", \"siete\", \"ocho\",\n",
        "        \"nueve\", \"diez\", \"once\", \"doce\", \"trece\", \"catorce\", \"quince\",\n",
        "        \"dieciseis\", \"diecisiete\", \"dieciocho\", \"diecinueve\",\n",
        "      ]\n",
        "\n",
        "      tens = [\"\", \"\", \"veinte\", \"treinta\", \"cuarenta\", \"cincuenta\", \"sesenta\", \"setenta\", \"ochenta\", \"noventa\"]\n",
        "\n",
        "      scales = [\"cien\", \"mil\"]\n",
        "\n",
        "      numwords[\"y\"] = (1, 0)\n",
        "      for idx, Word in enumerate(units):    numwords[Word] = (1, idx)\n",
        "      for idx, Word in enumerate(tens):     numwords[Word] = (1, idx * 10)\n",
        "      for idx, Word in enumerate(scales):   numwords[Word] = (10 ** (idx * 3 or 2), 0)\n",
        "\n",
        "    current = result = 0\n",
        "    for Word in textnum.split():\n",
        "        if Word not in numwords:\n",
        "          raise Exception(\"Illegal Word: \" + Word)\n",
        "\n",
        "        scale, increment = numwords[Word]\n",
        "        current = current * scale + increment\n",
        "        if scale > 100:\n",
        "            result += current\n",
        "            current = 0\n",
        "\n",
        "    return result + current\n",
        "\n",
        "print(text2int(\"setenta y cuatro\"))"
      ],
      "id": "CnJn_ykcRLa4",
      "execution_count": null,
      "outputs": [
        {
          "output_type": "stream",
          "name": "stdout",
          "text": [
            "74\n"
          ]
        }
      ]
    },
    {
      "cell_type": "markdown",
      "metadata": {
        "id": "paperback-rugby"
      },
      "source": [
        "### 9. Ordenación inversa de un cadena.\n",
        "\n",
        "Ordenar siempre ha sido una utilidad bastante popular con muchas aplicaciones en todas partes. Python en su lenguaje ofrece una función de ordenación para realizar esta tarea , pero debido al hecho de que no todos los contenedores en Python son mutables, como la cadena, la función de ordenación no funciona ya que intenta ordenar en el lugar y la inmutabilidad detiene esto. Realice un programa que permita realizar la ordenación inversa de una cadena. Considere el siguiente ejemplo:\n",
        "\n",
        "***Entrada del programa : microprocesadoresUPTC***\n",
        "\n",
        "***Salida del programa :  ssrrrpooomieedccaUTPC***"
      ],
      "id": "paperback-rugby"
    },
    {
      "cell_type": "code",
      "metadata": {
        "id": "-VMqW0n_pNhN",
        "colab": {
          "base_uri": "https://localhost:8080/"
        },
        "outputId": "afe2315a-0d87-408e-d826-fa67bca7ef00"
      },
      "source": [
        "Texto=input(\"Ingreso una cadena= \")   #Ingreso de la  cadena\n",
        "\n",
        "res = ''.join(sorted(Texto, reverse = True))  #Reordenamiento de la cadena \n",
        "\n",
        "print(\"Entrada del programa: \", Texto)\n",
        "print(\"Salida del programa: \", res)"
      ],
      "id": "-VMqW0n_pNhN",
      "execution_count": null,
      "outputs": [
        {
          "output_type": "stream",
          "name": "stdout",
          "text": [
            "Ingreso una cadena= HOLAMUNDO\n",
            "Entrada del programa:  HOLAMUNDO\n",
            "Salida del programa:  UOONMLHDA\n"
          ]
        }
      ]
    },
    {
      "cell_type": "markdown",
      "metadata": {
        "id": "fuzzy-berlin"
      },
      "source": [
        " ### 10. Encontrar la suma y la media de una lista en Python. \n",
        " Dada una lista, la tarea es encontrar la suma y el promedio de los elementos presentes en esa lista. El programa debe ser dinámica : se debe definir por consola el número de elementos de la lista, los elementos de la lista y mostraer el resultado en pantalla."
      ],
      "id": "fuzzy-berlin"
    },
    {
      "cell_type": "code",
      "metadata": {
        "id": "Ai3RYmrnfyAe",
        "colab": {
          "base_uri": "https://localhost:8080/"
        },
        "outputId": "7bc7c6fe-094f-4d81-936d-c3db8ae03451"
      },
      "source": [
        "Lista = []\n",
        "Tamaño_lista = int(input('Digite tamaño de la lista: '))\n",
        "\n",
        "for i in range(Tamaño_lista):\n",
        "  Valores_lista = int(input('Digite valores de la lista: '))\n",
        "  Lista.append(Valores_lista)\n",
        "print(Lista)\n",
        "Suma_Lista = sum(Lista)\n",
        "Promedio_Lista = Suma_Lista/Tamaño_lista\n",
        "print(\"La suma de los elementos de la lista es: \", Suma_Lista)\n",
        "print(\"El promedio de los elementos de la lista es: \", Promedio_Lista)"
      ],
      "id": "Ai3RYmrnfyAe",
      "execution_count": null,
      "outputs": [
        {
          "output_type": "stream",
          "name": "stdout",
          "text": [
            "Digite tamaño de la lista: 10\n",
            "Digite valores de la lista: 5\n",
            "Digite valores de la lista: 2\n",
            "Digite valores de la lista: 3\n",
            "Digite valores de la lista: 5\n",
            "Digite valores de la lista: 1\n",
            "Digite valores de la lista: 2\n",
            "Digite valores de la lista: 3\n",
            "Digite valores de la lista: 6\n",
            "Digite valores de la lista: 12\n",
            "Digite valores de la lista: 2\n",
            "[5, 2, 3, 5, 1, 2, 3, 6, 12, 2]\n",
            "La suma de los elementos de la lista es:  41\n",
            "El promedio de los elementos de la lista es:  4.1\n"
          ]
        }
      ]
    },
    {
      "cell_type": "markdown",
      "metadata": {
        "id": "thick-shelf"
      },
      "source": [
        "### 11. Números Estroboscópicos . \n",
        "Escriba un programa Python para obtener todos los números estroboscópicos de longitud n. Un número estroboscópico es un número en rotación , de modo que parece ser el mismo cuando se gira 180 grados visualmente. En otras palabras, el numeral se ve igual de arriba a abajo ( por ejemplo, $69, 96 ,1001$)\n",
        "\n",
        "Considere el siguiente ejemplo:\n",
        "\n",
        "Dado $ n = 2$, retorna $[ \"11\", \"69\", \"88\", \"96\"]$\n",
        "\n",
        "Dado $ n = 3$, retorna $[\"818\", \"111\", \"916\", \"619\", \"808\", \"101\", \"906\", \"609\", \"888\", \"181\", \"986\", \"689\"]$\n",
        "\n",
        "![p11.PNG](attachment:p11.PNG)"
      ],
      "id": "thick-shelf"
    },
    {
      "cell_type": "markdown",
      "metadata": {
        "id": "3Zx50xlAquNf"
      },
      "source": [
        "### Solución\n"
      ],
      "id": "3Zx50xlAquNf"
    },
    {
      "cell_type": "code",
      "metadata": {
        "colab": {
          "base_uri": "https://localhost:8080/"
        },
        "id": "TG35ffb0qvuQ",
        "outputId": "a51e08e5-c3bd-4f45-941f-120d7db6e29c"
      },
      "source": [
        "from itertools import product \n",
        "\n",
        "#Longitud de los numeros  estroboscopico\n",
        "n=int(input(\"Numeros estroboscopico de longitud: \"))\n",
        "\n",
        "#Listado de numeros usados para generar los  numeros estroboscopicos\n",
        "numeros = [0, 1, 6, 8, 9]\n",
        "#Generacion de  numero\n",
        "prod = product(numeros, repeat=n)\n",
        "#Almacenamiento de los numeros  estroboscopicos\n",
        "arreglo = []\n",
        "for tup in prod:\n",
        "# Rangos de comprobacion\n",
        "\n",
        "    if tup[0] == 0: #omitir numeros que incian con cero\n",
        "        continue\n",
        "    #Numeros estroboscopicos impares del centro\n",
        "    if (n % 2 > 0) and (tup[int(n/2)] not in [0, 1, 8]):\n",
        "        continue\n",
        "\n",
        "    estroboscopico = True\n",
        "    #Rangos de comprobacion si el numero  es el opuesto\n",
        "    for i in range(int(n/2)):\n",
        "        if (tup[i] == 0) and (tup[n-i-1] == 0):\n",
        "            pass\n",
        "        elif (tup[i] == 1) and (tup[n-i-1] == 1):\n",
        "            pass\n",
        "        elif (tup[i] == 6) and (tup[n-i-1] == 9):\n",
        "            pass\n",
        "        elif (tup[i] == 8) and (tup[n-i-1] == 8):\n",
        "            pass\n",
        "        elif (tup[i] == 9) and (tup[n-i-1] == 6):\n",
        "            pass\n",
        "        else:\n",
        "          #El numero no es estroboscopico\n",
        "            estroboscopico = False\n",
        "            break\n",
        "    if estroboscopico:\n",
        "        arreglo.append(''.join(map(str, tup)))#Insercion del numero estroboscopico al final del listado \n",
        "\n",
        "print(arreglo)"
      ],
      "id": "TG35ffb0qvuQ",
      "execution_count": null,
      "outputs": [
        {
          "output_type": "stream",
          "name": "stdout",
          "text": [
            "Numeros estroboscopico de longitud: 5\n",
            "['10001', '10101', '10801', '11011', '11111', '11811', '16091', '16191', '16891', '18081', '18181', '18881', '19061', '19161', '19861', '60009', '60109', '60809', '61019', '61119', '61819', '66099', '66199', '66899', '68089', '68189', '68889', '69069', '69169', '69869', '80008', '80108', '80808', '81018', '81118', '81818', '86098', '86198', '86898', '88088', '88188', '88888', '89068', '89168', '89868', '90006', '90106', '90806', '91016', '91116', '91816', '96096', '96196', '96896', '98086', '98186', '98886', '99066', '99166', '99866']\n"
          ]
        }
      ]
    },
    {
      "cell_type": "markdown",
      "metadata": {
        "id": "visible-block"
      },
      "source": [
        "### 12.  Problema De Aplicación:\n",
        "Hay 10 cuadrados verticales y horizontales en un plano. Cada cuadrado está pintado de azul y verde . El azul representa el mar y el verde la tierra. Cuando dos cuadrados verdes están en contacto ( superior e inferior, o a la derecha y a la izquierda), se dice que son la tierra. El área creada por un solo cuadrado se llama \"isla\". Por ejemplo, hay cinco islas en la siguiente figura.\n",
        "\n",
        "![P12.PNG](attachment:P12.PNG)\n",
        "\n",
        "Escriba un programa Python dinámico para leer los datos de tierra y encontrar el número de islas."
      ],
      "id": "visible-block"
    },
    {
      "cell_type": "markdown",
      "metadata": {
        "id": "EAKiX83FjXZ9"
      },
      "source": [
        "Para saber cuántas islas tiene el mapa, cada vez que se encuentra una celda en uno, se testean las celdas de los lados, arriba y abajo (como las celdas verdes). si estas están en cero entonces se determina que es una isla. \n",
        "Como en los bordes del mapa, no se requiere realizar exactamente el mismo procedimiento (Ver celdas azul) ya que habrán esquinas que se van a pedir para testear y no existirán. Para esto el mapa va con un margen en todo su alrededor(Ver cuadro rojo con negro) que es solo para evitar este inconveniente pero su presencia no afecta el resultado.\n"
      ],
      "id": "EAKiX83FjXZ9"
    },
    {
      "cell_type": "markdown",
      "metadata": {
        "id": "lg4oUduyxwxG"
      },
      "source": [
        "![image.png](data:image/png;base64,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)\n",
        "![image.png](data:image/png;base64,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)"
      ],
      "id": "lg4oUduyxwxG"
    },
    {
      "cell_type": "markdown",
      "metadata": {
        "id": "aVGisIVcsUxR"
      },
      "source": [
        "*Preparacion del mapa*"
      ],
      "id": "aVGisIVcsUxR"
    },
    {
      "cell_type": "code",
      "metadata": {
        "id": "ElHFxB8qpC13",
        "colab": {
          "base_uri": "https://localhost:8080/",
          "height": 282
        },
        "outputId": "f4c36360-9765-42f4-fbe5-d7dfa6e9e4be"
      },
      "source": [
        "Planeta = []\n",
        "Planeta_F = []\n",
        "Mapa = []\n",
        "for i in range(12):#Mapa 12*12\n",
        "  fila = []\n",
        "  for j in range(12):\n",
        "    fila.append(random.randrange(2))#Valores aleatorios entre 0 y 1\n",
        "  Mapa.append(fila)\n",
        "\n",
        "plt.pyplot.imshow(Mapa,cmap='gray')"
      ],
      "id": "ElHFxB8qpC13",
      "execution_count": null,
      "outputs": [
        {
          "output_type": "execute_result",
          "data": {
            "text/plain": [
              "<matplotlib.image.AxesImage at 0x7f0fcd940510>"
            ]
          },
          "metadata": {},
          "execution_count": 23
        },
        {
          "output_type": "display_data",
          "data": {
            "image/png": "[encoded data removed]",
            "text/plain": [
              "<Figure size 432x288 with 1 Axes>"
            ]
          },
          "metadata": {
            "needs_background": "light"
          }
        }
      ]
    },
    {
      "cell_type": "code",
      "metadata": {
        "id": "KhiTI5ILskVf",
        "colab": {
          "base_uri": "https://localhost:8080/",
          "height": 282
        },
        "outputId": "24668296-2620-490e-b164-638a17a1659e"
      },
      "source": [
        "for k in range(12):#Los bordes van vacios para que no interfieran en el resultado\n",
        "  Mapa[0][k]=1\n",
        "  Mapa[11][k]=1\n",
        "  Mapa[k][0]=1\n",
        "  Mapa[k][11]=1\n",
        "plt.pyplot.imshow(Mapa,cmap='gray')"
      ],
      "id": "KhiTI5ILskVf",
      "execution_count": null,
      "outputs": [
        {
          "output_type": "execute_result",
          "data": {
            "text/plain": [
              "<matplotlib.image.AxesImage at 0x7f0fcd3d1c10>"
            ]
          },
          "metadata": {},
          "execution_count": 24
        },
        {
          "output_type": "display_data",
          "data": {
            "image/png": "[encoded data removed]",
            "text/plain": [
              "<Figure size 432x288 with 1 Axes>"
            ]
          },
          "metadata": {
            "needs_background": "light"
          }
        }
      ]
    },
    {
      "cell_type": "markdown",
      "source": [
        " **Este es el mapa a analizar**"
      ],
      "metadata": {
        "id": "igGh1Oj2p9S-"
      },
      "id": "igGh1Oj2p9S-"
    },
    {
      "cell_type": "code",
      "metadata": {
        "id": "jjop5vwbsd6M",
        "colab": {
          "base_uri": "https://localhost:8080/",
          "height": 282
        },
        "outputId": "d6113ad0-6258-4ac5-b802-fc804089651f"
      },
      "source": [
        "Planeta_F = Mapa[1:11]#Recorte en y\n",
        "Planeta_F = np.transpose(Planeta_F)\n",
        "Planeta = Planeta_F[1:11]#Recorte en x\n",
        "Planeta = np.transpose(Planeta)\n",
        "plt.pyplot.imshow(Planeta,cmap='gray')#Mapa, Blanco = Agua, Negro = tierra\n",
        "#Este es el mapa a analizar"
      ],
      "id": "jjop5vwbsd6M",
      "execution_count": null,
      "outputs": [
        {
          "output_type": "execute_result",
          "data": {
            "text/plain": [
              "<matplotlib.image.AxesImage at 0x7f0fd4835ed0>"
            ]
          },
          "metadata": {},
          "execution_count": 25
        },
        {
          "output_type": "display_data",
          "data": {
            "image/png": "[encoded data removed]",
            "text/plain": [
              "<Figure size 432x288 with 1 Axes>"
            ]
          },
          "metadata": {
            "needs_background": "light"
          }
        }
      ]
    },
    {
      "cell_type": "markdown",
      "source": [
        "**Deteccion de islas**"
      ],
      "metadata": {
        "id": "lO5qix_6qJ1h"
      },
      "id": "lO5qix_6qJ1h"
    },
    {
      "cell_type": "code",
      "metadata": {
        "id": "uaYvebceHqpV",
        "colab": {
          "base_uri": "https://localhost:8080/"
        },
        "outputId": "4a82740d-b752-4dae-e9cd-2176d28bd0a6"
      },
      "source": [
        "negro=0\n",
        "blanco=0\n",
        "isla=0\n",
        "\n",
        "for x in range(12):\n",
        "  for y in range(12):\n",
        "    if Mapa[x][y]:\n",
        "      blanco += 1\n",
        "    else:\n",
        "      negro +=1\n",
        "      if (Mapa[x+1][y] and Mapa[x-1][y] and Mapa[x][y+1] and Mapa[x][y-1]):#Si una porcion de tierra tiene agua arriba, abajo y a los lados entonces es una isla\n",
        "        isla += 1\n",
        "        print(\"Isla #\",isla,\"En la posicion\",\"[\",x-1,\",\",y-1,\"]\")\n",
        "        Mapa[x][y]=2#Resaltamos la posicion de la isla\n",
        "\n",
        "print(\"Cantidad de porciones de Tierra= \",negro,\"Cantidad de porciones de agua= \", blanco-44)\n",
        "print(\"Cantidad de islas es= \", isla)"
      ],
      "id": "uaYvebceHqpV",
      "execution_count": null,
      "outputs": [
        {
          "output_type": "stream",
          "name": "stdout",
          "text": [
            "Isla # 1 En la posicion [ 0 , 5 ]\n",
            "Isla # 2 En la posicion [ 0 , 9 ]\n",
            "Isla # 3 En la posicion [ 5 , 7 ]\n",
            "Isla # 4 En la posicion [ 6 , 6 ]\n",
            "Isla # 5 En la posicion [ 9 , 7 ]\n",
            "Cantidad de porciones de Tierra=  48 Cantidad de porciones de agua=  52\n",
            "Cantidad de islas es=  5\n"
          ]
        }
      ]
    },
    {
      "cell_type": "code",
      "metadata": {
        "id": "pJr4hsHf6gwl",
        "colab": {
          "base_uri": "https://localhost:8080/",
          "height": 282
        },
        "outputId": "112ff5a8-6d07-4816-8e1e-3ca84a9888fb"
      },
      "source": [
        "plt.pyplot.imshow(Mapa,cmap='gray')#Acontinuacion observe graficamente la ubicacion de las islas, cuadros blancos"
      ],
      "id": "pJr4hsHf6gwl",
      "execution_count": null,
      "outputs": [
        {
          "output_type": "execute_result",
          "data": {
            "text/plain": [
              "<matplotlib.image.AxesImage at 0x7f0fcd326350>"
            ]
          },
          "metadata": {},
          "execution_count": 27
        },
        {
          "output_type": "display_data",
          "data": {
            "image/png": "[encoded data removed]",
            "text/plain": [
              "<Figure size 432x288 with 1 Axes>"
            ]
          },
          "metadata": {
            "needs_background": "light"
          }
        }
      ]
    },
    {
      "cell_type": "markdown",
      "metadata": {
        "id": "heated-metabolism"
      },
      "source": [
        "## Parte 2, Investigación:"
      ],
      "id": "heated-metabolism"
    },
    {
      "cell_type": "markdown",
      "metadata": {
        "id": "middle-amsterdam"
      },
      "source": [
        "### 1. Aplicación para Compilación :\n",
        "Revise el proceso de “compilación” para aplicaciones Python, de modo que, si usted requiere compartir su programa pero no el código fuente, lo pueda hacer con facilidad. El proceso de “congelamiento o freeze” permite que la aplicación escrita en lenguaje Python sea ejecutada en otro sistema sin compartir el código fuente, de modo que no se pierda su propiedad intelectual o que la aplicación sea modificada. Revise estos enlaces para obtener más información:\n",
        "•\thttps://hackernoon.com/the-one-stop-guide-to-easy-cross-platform-python-freezing-part-1-c53e66556a0a\n",
        "\n",
        "•\thttps://wiki.python.org/moin/Freeze\n"
      ],
      "id": "middle-amsterdam"
    },
    {
      "cell_type": "markdown",
      "metadata": {
        "id": "DwobmJ_1p8ln"
      },
      "source": [
        "### Solución $^{6,7}$\n",
        "\n",
        "Congelamiento o freeze, es la  herramienta de python  que nos permite  ejecutar los programas en en otras plataformas sin nececidad de python \n",
        "\n",
        "Primero se crea el programa.\n",
        "\n",
        "Posterior a esto en el sistema se invoca freeze.py  y el programa a congelar, mediante el siguiente  comando\n",
        "\n",
        "$ python freeze.py progrma.py\n",
        "\n",
        "Otro medoto es instalando  pyinstaller\n",
        "\n",
        "!pip install pyinstaller\n",
        "\n",
        "Para conjelar una programa solo es necesario ingresar  la siguiente linea de comando:\n",
        "\n",
        "pyinstaller programa.py -n NAME\n",
        "\n",
        "Donde programa.py es programa que  sera congelado, y name sera  el nombre del ejecutable que sera generado al congelar el programa.\n",
        "\n",
        "Para crear un ejecutable portatil se agrega --onefile\n",
        "\n",
        "pyinstaller programa.py -n NAME --onefile"
      ],
      "id": "DwobmJ_1p8ln"
    },
    {
      "cell_type": "markdown",
      "metadata": {
        "id": "unusual-clarity"
      },
      "source": [
        "### 2. Congelación de Código :\n",
        "\n",
        "Congele el código del ejercicio que corresponda con el último dígito de su código estudiantil. Por ejemplo, si su código termina en $1$, congele el ejercicio número $1$ y compruebe que funcione del mismo modo como si se ejecutara con el código fuente directamente. Nota: si su código termina en $0$, congele el ejercicio del punto $10$. Si el trabajo es realizado en parejas, debe congelar dos códigos."
      ],
      "id": "unusual-clarity"
    },
    {
      "cell_type": "markdown",
      "source": [
        "**MIRAR LA CARPETA APPS**"
      ],
      "metadata": {
        "id": "c02DXSa1tTmh"
      },
      "id": "c02DXSa1tTmh"
    },
    {
      "cell_type": "markdown",
      "metadata": {
        "id": "dependent-shareware"
      },
      "source": [
        "## Parte 3, Proposición:\n",
        "\n",
        "Escriba un programa en python que permita implementar una ayuda para estudiantes de ingeniería (cualquier rama), por ejemplo, para el caso de Ing. Electrónica, podría ser útil una calculadora de resistencias por color, o determinar los valores de un circuito oscilador basado en IC555. Puede ser cualquier idea. El único requisito es usar funciones y varios de los elementos aprendidos anteriormente (listas, arreglos, cadenas, ecuaciones, etc). Puede consultar más de las funciones aquí: https://www.w3schools.com/python/python_functions.asp.\n"
      ],
      "id": "dependent-shareware"
    },
    {
      "cell_type": "code",
      "metadata": {
        "id": "g25N6aGB3JD_",
        "colab": {
          "base_uri": "https://localhost:8080/"
        },
        "outputId": "81f3f078-255b-46d0-cbd0-cec4eeb1a4b9"
      },
      "source": [
        "import math\n",
        "\n",
        "def RetardosPIC():\n",
        "  F_oscilador = int(input('Digite frecuencia de oscilador: '))\n",
        "  Tiempo = int(input('Digite tiempo del retardo en s: '))\n",
        "  F_instrucciones = F_oscilador/4\n",
        "  T_instrucciones = 1/F_instrucciones\n",
        "  Retardo = Tiempo/T_instrucciones\n",
        "  print(\"Necesita realizar\",Retardo, \"Instrucciones, para generar un retardo de\", Tiempo,\"s\")\n",
        "  return Retardo\n",
        "\n",
        "def Resistencias_Serie():\n",
        "  Total = []\n",
        "  Suma_Total = []\n",
        "  NumeroResistencias = int(input('Digite cuantas resistencias va a sumar: '))\n",
        "  for i in range(NumeroResistencias):\n",
        "    Valores_lista = int(input('Digite valores de la resistencia: '))\n",
        "    Total.append(Valores_lista)\n",
        "  Suma_Total = sum(Total)\n",
        "  print(\"La suma en serie de las resistencia es: \", Suma_Total)\n",
        "  #return Suma_Total\n",
        "\n",
        "def Resistencias_Paralelo():\n",
        "  Total = []\n",
        "  Suma_Total = []\n",
        "  NumeroResistencias = int(input('Digite cuantas resistencias va a sumar: '))\n",
        "  for i in range(NumeroResistencias):\n",
        "    Valores_lista = int(input('Digite valores de la resistencia: '))\n",
        "    Alamenos1 = 1/Valores_lista\n",
        "    Total.append(Alamenos1)\n",
        "  Suma_Total = 1/sum(Total)\n",
        "  print(\"La suma en paralelo de las resistencia es: \",Suma_Total)\n",
        "\n",
        "def Resistencias_Deltaestrella():\n",
        "  Total = []\n",
        "  Suma_Total = []\n",
        "  for i in range(3):\n",
        "    Valores_lista = int(input('Digite valores de la resistencia: '))\n",
        "    Total.append(Valores_lista)\n",
        "  Suma_Total = sum(Total)\n",
        "  R1 = (Total[1]*Total[2])/(Suma_Total)\n",
        "  R2 = (Total[0]*Total[2])/(Suma_Total)\n",
        "  R3 = (Total[0]*Total[1])/(Suma_Total)\n",
        "  print(\"R1 es igual a: \",R1,\"R2 es igual a: \",R2,\"R3 es igual a: \",R3)\n",
        "\n",
        "def Resistencias_Estrelladelta():\n",
        "  Total = []\n",
        "  Suma_Total = []\n",
        "  for i in range(3):\n",
        "    Valores_lista = int(input('Digite valores de la resistencia: '))\n",
        "    Total.append(Valores_lista)\n",
        "  Suma_Total = (Total[0]*Total[1])+(Total[1]*Total[2])+(Total[2]*Total[0])\n",
        "  R1 = (Suma_Total)/Total[0]\n",
        "  R2 = (Suma_Total)/Total[1]\n",
        "  R3 = (Suma_Total)/Total[2]\n",
        "  print(\"R1 es igual a: \",R1,\"R2 es igual a: \",R2,\"R3 es igual a: \",R3)\n",
        "\n",
        "def MaquinasElectricas():\n",
        "  P = int(input('Digite Numero de polos '))\n",
        "  Q = int(input('Digite Numero de fases '))\n",
        "  S = int(input('Digite Numero de ranuras '))\n",
        "  n = S/(P*Q) #CINTURON DE FASE\n",
        "  Ns = 120*60/P #Velocidad giro, campo magnetico\n",
        "  Kp = math.sin(P/2)\n",
        "  y = 180/(S/P) #Paso de ranura\n",
        "  Tramo_bobina = ((S/P)- (n-1))*y\n",
        "  Kd = (math.sin(n*y/2))/(n*math.sin(y/2))\n",
        "  print(\"Cinturon de fase => n: \", n)\n",
        "  print(\"Velocidad => Ns: \", Ns)\n",
        "  print(\"Paso de ranura => y: \", y)\n",
        "  print(\"Factor de distribuccion => Kd: \", Kd)\n",
        "  print(\"Factor de paso => Kp: \", Kp)\n",
        "  print(\"Tramo de ranura => ρ: \", Tramo_bobina)\n",
        "  \n",
        "menu = \"\"\"\n",
        "Bienvenidos a la calculadora inteligente para ingenieros.\n",
        "Seleccione una opcion\n",
        "\n",
        "[1] RetardosPIC\n",
        "[2] Resistencias_Serie\n",
        "[3] Resistencias_Paralelo  \n",
        "[4] Resistencias_Deltaestrella\n",
        "[5] Resistencias_Estrelladelta\n",
        "[6] MaquinasElectricas\n",
        "\"\"\" \n",
        "print(menu)\n",
        "opcion = input('Digita una opcion entre 1 y 6: ')\n",
        "if opcion == '1':\n",
        "    RetardosPIC()\n",
        "elif opcion == '2':\n",
        "    Resistencias_Serie()\n",
        "elif opcion == '3':\n",
        "    Resistencias_Paralelo()\n",
        "elif opcion == '4':\n",
        "    Resistencias_Deltaestrella()\n",
        "elif opcion == '5':\n",
        "    Resistencias_Estrelladelta()\n",
        "elif opcion == '6':\n",
        "    MaquinasElectricas()\n",
        "else:\n",
        "    print('Debes digitar un numero entre 1 y 6')\n",
        "    print('=-='*20)"
      ],
      "id": "g25N6aGB3JD_",
      "execution_count": null,
      "outputs": [
        {
          "output_type": "stream",
          "name": "stdout",
          "text": [
            "\n",
            "Bienvenidos a la calculadora inteligente para ingenieros.\n",
            "Seleccione una opcion\n",
            "\n",
            "[1] RetardosPIC\n",
            "[2] Resistencias_Serie\n",
            "[3] Resistencias_Paralelo  \n",
            "[4] Resistencias_Deltaestrella\n",
            "[5] Resistencias_Estrelladelta\n",
            "[6] MaquinasElectricas\n",
            "\n",
            "Digita una opcion entre 1 y 6: 1\n",
            "Digite frecuencia de oscilador: 1000000\n",
            "Digite tiempo del retardo en s: 1\n",
            "Necesita realizar 250000.0 Instrucciones, para generar un retardo de 1 s\n"
          ]
        }
      ]
    },
    {
      "cell_type": "markdown",
      "metadata": {
        "id": "yellow-peripheral"
      },
      "source": [
        "### Entregables:\n",
        "\n",
        "### 1. En el Notebook : \n",
        "Se deben escribir los códigos de Python (Version 3)  organizados con el nombre del punto correspondiente. Mostrar los resultados en el Notebook correspondiente y la explicación concerniente, apoyarse de explicaicones, diagramas, dibujos, etc \n",
        "\n",
        "### 2. Informe en el Notebook\n",
        "Realice un informe con ayuda del Notebook de laboratorio que contenga las siguientes partes: Título, resumen, introducción, marco teórico, objetivo, materiales, desarrollo (la resolución de cada uno de los puntos de esta práctica, complementando con análisis de resultados e imágenes de los programas, donde se vea su nombre en cada una de ellas), conclusiones y bibliografía en citación formato IEEE.\n",
        "\n",
        "Envíe por medio del aula virtual UPTC un solo único archivo comprimido, formato ZIP que contenga el programa.ipynb \n",
        "\n",
        "Si hay dudas o preguntas, por favor comunicarse con el docente a través del correo electrónico: wolffang.nino@uptc.edu.co\n",
        "\n",
        "***Nota: el desarrollo de esta práctica se puede hacer en equipo de máximo 2 personas.***\n",
        "\n"
      ],
      "id": "yellow-peripheral"
    },
    {
      "cell_type": "markdown",
      "source": [
        "# Concluciones"
      ],
      "metadata": {
        "id": "6fgNMTzGro5Q"
      },
      "id": "6fgNMTzGro5Q"
    },
    {
      "cell_type": "markdown",
      "source": [
        "\n",
        "\n",
        "* Los IDE de compilación de Python, pueden diferir en las librerías que son capaces de ejecutar, por ejemplo Jupyter no es capaz de ejecutar procesos Multiprocesos como si es capaz de realizar Google Colab o PyCharm.\n",
        "\n",
        "* El lenguaje de programación de Python es un lenguaje de programación de alto nivel que proporciona la elaboración de programas en pocas líneas de comando que en lenguaje más comunes como C o C++ que requieren extensos códigos para realizar procesos entre comillas de complejidad media.\n",
        "\n",
        "\n"
      ],
      "metadata": {
        "id": "SudmoCIqr48H"
      },
      "id": "SudmoCIqr48H"
    },
    {
      "cell_type": "markdown",
      "metadata": {
        "id": "dlnzp6cCRZ6v"
      },
      "source": [
        "# Bibliografia"
      ],
      "id": "dlnzp6cCRZ6v"
    },
    {
      "cell_type": "markdown",
      "source": [
        "\n",
        "1. J.J. Lozano Gómez. \"Web scraping con python. Extraer datos de una web. Guia de inicio  de beautiful Soup\". [Online]. Disponible: https://j2logo.com/python/web-scraping-con-python-guia-inicio-beautifulsoup/\n",
        "\n",
        "2. J.J. Lozano Gómez. \"Python requests. La libreria  par hacer peticiones http en Python\". [Online]. Disponible: https://j2logo.com/python/python-requests-peticiones-http/\n",
        "\n",
        "3. J. Ortiz Ordoñes. (2019, 23 Oct). \"Python - Ejercicio 159: Obtener las Últimas Noticias desde Google News con Beautiful Soup 4\". [Online]. Disponible: https://www.youtube.com/watch?v=UY1HVFrolHI&ab_channel=JohnOrtizOrdo%C3%B1ez\n",
        "\n",
        "4. E. Vaati. (2018, 20 Feb)\"Introducción a Multiprocesamiento en Python\".[Online]. Disponible: https://code.tutsplus.com/es/tutorials/introduction-to-multiprocessing-in-python--cms-30281\n",
        "\n",
        "5. it-swarm-es.com. \"¿Hay una manera de convertir palabras de números a números enteros?\". [Online]. Disponible: https://www.it-swarm-es.com/es/python/hay-una-manera-de-convertir-palabras-de-numeros-numeros-enteros/958175926/\n",
        "\n",
        "6. stackoverflow en español - aeportugal. (2020, 20 Jul). \"Escribir un programa en python para obtener los numeros estroboscópicos de longitud n\". [Online]. Disponible: https://es.stackoverflow.com/questions/374820/escribir-un-programa-en-python-para-obtener-los-n%C3%BAmeros-estrobosc%C3%B3picos-de-longi\n",
        "\n",
        "7. hackernoon - Sambhav(2018, 20 Feb)\"The one-stop guide to (easy) cross-platform Python freezing: part 1\". [Online]. Disponible: https://hackernoon.com/the-one-stop-guide-to-easy-cross-platform-python-freezing-part-1-c53e66556a0a\n",
        "\n",
        "8. Python - Paul Boddie(2013, 1 Dic). \"Freeze\". [Online]. Disponible: https://wiki.python.org/moin/Freeze\n",
        "\n",
        "9. M.A. Alvarez. (2003, 19 Nov)\"Que es Python\". [Online]. Disponilbe: https://desarrolloweb.com/articulos/1325.php\n",
        "\n",
        "10. Santander universidades.(2021, 9 Abril). \"¿Ques es Python?\"[Online]. Disponible: https://www.becas-santander.com/es/blog/python-que-es.html"
      ],
      "metadata": {
        "id": "ruECmk_phM94"
      },
      "id": "ruECmk_phM94"
    },
    {
      "cell_type": "code",
      "source": [
        "!pip install nbconvert"
      ],
      "metadata": {
        "colab": {
          "base_uri": "https://localhost:8080/"
        },
        "id": "wS7Ygvty7Fxp",
        "outputId": "ea0ad1bd-ae35-4ff9-e590-36dad4564230"
      },
      "id": "wS7Ygvty7Fxp",
      "execution_count": null,
      "outputs": [
        {
          "output_type": "stream",
          "name": "stdout",
          "text": [
            "Requirement already satisfied: nbconvert in /usr/local/lib/python3.7/dist-packages (5.6.1)\n",
            "Requirement already satisfied: testpath in /usr/local/lib/python3.7/dist-packages (from nbconvert) (0.5.0)\n",
            "Requirement already satisfied: jupyter-core in /usr/local/lib/python3.7/dist-packages (from nbconvert) (4.9.1)\n",
            "Requirement already satisfied: pygments in /usr/local/lib/python3.7/dist-packages (from nbconvert) (2.6.1)\n",
            "Requirement already satisfied: nbformat>=4.4 in /usr/local/lib/python3.7/dist-packages (from nbconvert) (5.1.3)\n",
            "Requirement already satisfied: bleach in /usr/local/lib/python3.7/dist-packages (from nbconvert) (4.1.0)\n",
            "Requirement already satisfied: jinja2>=2.4 in /usr/local/lib/python3.7/dist-packages (from nbconvert) (2.11.3)\n",
            "Requirement already satisfied: traitlets>=4.2 in /usr/local/lib/python3.7/dist-packages (from nbconvert) (5.1.1)\n",
            "Requirement already satisfied: pandocfilters>=1.4.1 in /usr/local/lib/python3.7/dist-packages (from nbconvert) (1.5.0)\n",
            "Requirement already satisfied: mistune<2,>=0.8.1 in /usr/local/lib/python3.7/dist-packages (from nbconvert) (0.8.4)\n",
            "Requirement already satisfied: entrypoints>=0.2.2 in /usr/local/lib/python3.7/dist-packages (from nbconvert) (0.3)\n",
            "Requirement already satisfied: defusedxml in /usr/local/lib/python3.7/dist-packages (from nbconvert) (0.7.1)\n",
            "Requirement already satisfied: MarkupSafe>=0.23 in /usr/local/lib/python3.7/dist-packages (from jinja2>=2.4->nbconvert) (2.0.1)\n",
            "Requirement already satisfied: jsonschema!=2.5.0,>=2.4 in /usr/local/lib/python3.7/dist-packages (from nbformat>=4.4->nbconvert) (2.6.0)\n",
            "Requirement already satisfied: ipython-genutils in /usr/local/lib/python3.7/dist-packages (from nbformat>=4.4->nbconvert) (0.2.0)\n",
            "Requirement already satisfied: webencodings in /usr/local/lib/python3.7/dist-packages (from bleach->nbconvert) (0.5.1)\n",
            "Requirement already satisfied: packaging in /usr/local/lib/python3.7/dist-packages (from bleach->nbconvert) (21.3)\n",
            "Requirement already satisfied: six>=1.9.0 in /usr/local/lib/python3.7/dist-packages (from bleach->nbconvert) (1.15.0)\n",
            "Requirement already satisfied: pyparsing!=3.0.5,>=2.0.2 in /usr/local/lib/python3.7/dist-packages (from packaging->bleach->nbconvert) (3.0.6)\n"
          ]
        }
      ]
    },
    {
      "cell_type": "code",
      "source": [
        "!jupyter nbconvert --to html Laboratorio_1_Fundamentos_de_Python.ipynb\n"
      ],
      "metadata": {
        "colab": {
          "base_uri": "https://localhost:8080/"
        },
        "id": "dh9DkIrF4eBy",
        "outputId": "8ceb01c3-93d4-43da-ebb4-24191446c189"
      },
      "id": "dh9DkIrF4eBy",
      "execution_count": null,
      "outputs": [
        {
          "output_type": "stream",
          "name": "stdout",
          "text": [
            "[NbConvertApp] Converting notebook Laboratorio_1_Fundamentos_de_Python.ipynb to html\n",
            "Traceback (most recent call last):\n",
            "  File \"/usr/local/bin/jupyter-nbconvert\", line 8, in <module>\n",
            "    sys.exit(main())\n",
            "  File \"/usr/local/lib/python2.7/dist-packages/jupyter_core/application.py\", line 267, in launch_instance\n",
            "    return super(JupyterApp, cls).launch_instance(argv=argv, **kwargs)\n",
            "  File \"/usr/local/lib/python2.7/dist-packages/traitlets/config/application.py\", line 658, in launch_instance\n",
            "    app.start()\n",
            "  File \"/usr/local/lib/python2.7/dist-packages/nbconvert/nbconvertapp.py\", line 338, in start\n",
            "    self.convert_notebooks()\n",
            "  File \"/usr/local/lib/python2.7/dist-packages/nbconvert/nbconvertapp.py\", line 508, in convert_notebooks\n",
            "    self.convert_single_notebook(notebook_filename)\n",
            "  File \"/usr/local/lib/python2.7/dist-packages/nbconvert/nbconvertapp.py\", line 479, in convert_single_notebook\n",
            "    output, resources = self.export_single_notebook(notebook_filename, resources, input_buffer=input_buffer)\n",
            "  File \"/usr/local/lib/python2.7/dist-packages/nbconvert/nbconvertapp.py\", line 408, in export_single_notebook\n",
            "    output, resources = self.exporter.from_filename(notebook_filename, resources=resources)\n",
            "  File \"/usr/local/lib/python2.7/dist-packages/nbconvert/exporters/exporter.py\", line 179, in from_filename\n",
            "    return self.from_file(f, resources=resources, **kw)\n",
            "  File \"/usr/local/lib/python2.7/dist-packages/nbconvert/exporters/exporter.py\", line 197, in from_file\n",
            "    return self.from_notebook_node(nbformat.read(file_stream, as_version=4), resources=resources, **kw)\n",
            "  File \"/usr/local/lib/python2.7/dist-packages/nbconvert/exporters/html.py\", line 90, in from_notebook_node\n",
            "    return super(HTMLExporter, self).from_notebook_node(nb, resources, **kw)\n",
            "  File \"/usr/local/lib/python2.7/dist-packages/nbconvert/exporters/templateexporter.py\", line 314, in from_notebook_node\n",
            "    output = self.template.render(nb=nb_copy, resources=resources)\n",
            "  File \"/usr/local/lib/python2.7/dist-packages/jinja2/environment.py\", line 1008, in render\n",
            "    return self.environment.handle_exception(exc_info, True)\n",
            "  File \"/usr/local/lib/python2.7/dist-packages/jinja2/environment.py\", line 780, in handle_exception\n",
            "    reraise(exc_type, exc_value, tb)\n",
            "  File \"/usr/local/lib/python2.7/dist-packages/nbconvert/exporters/../templates/html/full.tpl\", line 2, in top-level template code\n",
            "    {% from 'mathjax.tpl' import mathjax %}\n",
            "  File \"/usr/local/lib/python2.7/dist-packages/nbconvert/exporters/../templates/html/basic.tpl\", line 1, in top-level template code\n",
            "    {%- extends 'display_priority.tpl' -%}\n",
            "  File \"/usr/local/lib/python2.7/dist-packages/nbconvert/exporters/../templates/skeleton/display_priority.tpl\", line 1, in top-level template code\n",
            "    {%- extends 'null.tpl' -%}\n",
            "  File \"/usr/local/lib/python2.7/dist-packages/nbconvert/exporters/../templates/skeleton/null.tpl\", line 26, in top-level template code\n",
            "    {%- block body -%}\n",
            "  File \"/usr/local/lib/python2.7/dist-packages/nbconvert/exporters/../templates/html/full.tpl\", line 99, in block \"body\"\n",
            "    {{ super() }}\n",
            "  File \"/usr/local/lib/python2.7/dist-packages/nbconvert/exporters/../templates/skeleton/null.tpl\", line 28, in block \"body\"\n",
            "    {%- block any_cell scoped -%}\n",
            "  File \"/usr/local/lib/python2.7/dist-packages/nbconvert/exporters/../templates/skeleton/null.tpl\", line 81, in block \"any_cell\"\n",
            "    {%- block markdowncell scoped-%} {%- endblock markdowncell -%}\n",
            "  File \"/usr/local/lib/python2.7/dist-packages/nbconvert/exporters/../templates/html/basic.tpl\", line 84, in block \"markdowncell\"\n",
            "    {{ cell.source  | markdown2html | strip_files_prefix }}\n",
            "  File \"/usr/local/lib/python2.7/dist-packages/nbconvert/exporters/html.py\", line 78, in markdown2html\n",
            "    return MarkdownWithMath(renderer=renderer).render(source)\n",
            "  File \"/usr/local/lib/python2.7/dist-packages/mistune.py\", line 1001, in render\n",
            "    return self.parse(text)\n",
            "  File \"/usr/local/lib/python2.7/dist-packages/mistune.py\", line 1004, in parse\n",
            "    out = self.output(preprocessing(text))\n",
            "  File \"/usr/local/lib/python2.7/dist-packages/mistune.py\", line 1053, in output\n",
            "    out += self.tok()\n",
            "  File \"/usr/local/lib/python2.7/dist-packages/mistune.py\", line 1063, in tok\n",
            "    return getattr(self, 'output_%s' % t)()\n",
            "  File \"/usr/local/lib/python2.7/dist-packages/mistune.py\", line 1168, in output_paragraph\n",
            "    return self.renderer.paragraph(self.inline(self.token['text']))\n",
            "  File \"/usr/local/lib/python2.7/dist-packages/mistune.py\", line 555, in __call__\n",
            "    return self.output(text, rules)\n",
            "  File \"/usr/local/lib/python2.7/dist-packages/mistune.py\", line 585, in output\n",
            "    ret = manipulate(text)\n",
            "  File \"/usr/local/lib/python2.7/dist-packages/mistune.py\", line 579, in manipulate\n",
            "    out = getattr(self, 'output_%s' % key)(m)\n",
            "  File \"/usr/local/lib/python2.7/dist-packages/mistune.py\", line 641, in output_link\n",
            "    return self._process_link(m, m.group(3), m.group(4))\n",
            "  File \"/usr/local/lib/python2.7/dist-packages/mistune.py\", line 661, in _process_link\n",
            "    return self.renderer.image(link, title, text)\n",
            "  File \"/usr/local/lib/python2.7/dist-packages/nbconvert/filters/markdown_mistune.py\", line 161, in image\n",
            "    assert name in attachments, \"missing attachment: {}\".format(name)\n",
            "AssertionError: missing attachment: p11.PNG\n"
          ]
        }
      ]
    }
  ]
}