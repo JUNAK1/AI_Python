{
  "nbformat": 4,
  "nbformat_minor": 0,
  "metadata": {
    "colab": {
      "name": "Perceptron.ipynb",
      "provenance": [],
      "collapsed_sections": []
    },
    "kernelspec": {
      "display_name": "Python 3",
      "name": "python3"
    },
    "language_info": {
      "name": "python"
    }
  },
  "cells": [
    {
      "cell_type": "markdown",
      "metadata": {
        "id": "9Tul7c24t9mA"
      },
      "source": [
        "**Juan Camilo Serrano Correa**\n",
        "\n",
        "**201621366**"
      ]
    },
    {
      "cell_type": "markdown",
      "metadata": {
        "id": "pmatagbXt9zg"
      },
      "source": [
        "\n",
        "###Perceptrón Básico"
      ]
    },
    {
      "cell_type": "code",
      "metadata": {
        "id": "PIdsDP_0t-j5"
      },
      "source": [
        "#graficas\n",
        "import matplotlib.pyplot as plt\n",
        "#numerico\n",
        "import pandas as pd\n",
        "import numpy as np\n",
        "from numpy import exp,array,random,dot"
      ],
      "execution_count": 22,
      "outputs": []
    },
    {
      "cell_type": "markdown",
      "metadata": {
        "id": "8BnusDR5uWWP"
      },
      "source": [
        "###Inicio"
      ]
    },
    {
      "cell_type": "markdown",
      "metadata": {
        "id": "PINOZEWZvdAn"
      },
      "source": [
        " 1. Definir estructura(Cuantas entradas) =>w\n",
        " 2. Definir implicitamente el proceso del perceptron\n",
        " 3. Funcion Train\n",
        " 4. Funcion de inferencia "
      ]
    },
    {
      "cell_type": "code",
      "metadata": {
        "id": "3ld2-DjA3kMX"
      },
      "source": [
        "#Definimos los hiperparametros\n",
        "inputs = 3\n",
        "output = 1\n",
        "alpha = 0.2 #LR = Learning Rate (Tasa de Aprendizaje) 0<LR<1\n",
        "epoch = 100# =época = numero de iteraciones (pases) que hace sobre la informacion en el TRAINING\n",
        "\n",
        "#Con la datos obtenido de ir aumentando el valor de epoch, se puede observar como el error tienen a 0 a medida que aumentamos epoch \n",
        "#Despues el valor llega disminuir por debajo de cero, para despues tender a cero por el eje negativo\n",
        "#y lo hace este mismo proceso mas rapido si aumentamos el valor de alpha.\n",
        "#Los datos obtenidos evidencian la teoria abordada en clase"
      ],
      "execution_count": 9,
      "outputs": []
    },
    {
      "cell_type": "code",
      "metadata": {
        "id": "_j6iMAyiuV_f"
      },
      "source": [
        "class NeuralNetwork:\n",
        "  #Objetivi de __init__ inicializa el modelo de la neurona\n",
        "  def __init__(self):\n",
        "    #Inicializar la semilla del valor aleatorio para asignarlos como pesos sinápticos\n",
        "    random.seed(1)\n",
        "\n",
        "    #Vamos a crear la estructura del perceptron en forma matricial\n",
        "    #Inicializar los pesos sinápticos aleatoriamente entre -1 y 1\n",
        "    self.synaptic_weights = 2*random.random((inputs, 1))-1\n",
        "\n",
        "  #Vamos a definir la funcion de activacion (sigmoide)\n",
        "  def __sigmoid(self,x):\n",
        "    return 1/(1+exp(-x))\n",
        "  \n",
        "  #Derivada de la funcion de activación\n",
        "  def __sigmoid_derivative(self,x):\n",
        "    return x * (1 - x)\n",
        "  \n",
        "  #Vamos a definir os pasos basicos del perceptron(THINK)\n",
        "  #Pasar las entradas a travez del proceso básico del perceptrón\n",
        "  def think (self, features):\n",
        "    return self.__sigmoid(dot(features, self.synaptic_weights))\n",
        "  \n",
        "  def normalize(self,inference):\n",
        "    if inference >= 0.5:\n",
        "      return 1\n",
        "    if inference < 0.5:\n",
        "      return 0\n",
        "\n",
        "  #Entrenamiento del Perceptrón (Train)\n",
        "  def train(self, features, target, alpha, epoch):\n",
        "    for iteration in range (epoch):\n",
        "      #Pasarel conjunto de entrenamiento(Features) a travésdel proceso de la neurona\n",
        "      output = self.think(features)\n",
        "      #Vamos a calcular el error\n",
        "      #Como la diferencia entre el valor del TARGET y el valor predicho(THINK)\n",
        "      error = []\n",
        "      error = target - output\n",
        "\n",
        "      \n",
        "      #Retropropagacion\n",
        "      #Multiplicar el error por el valor de la entrada (me aseguro de cuantificar unicamente el error entres las entradas\n",
        "      #Multiplico eso por el gradiente desendente de la funcion de activacion (con la derivada)\n",
        "      #Nota: Las entradas con valor 0 estan desactivadas y no las tenemos en cuenta\n",
        "      #Nota2; El GD filtray pondera el error repartiendolo entre los pesos activos.\n",
        "      adjustment = dot(features.T, error * self.__sigmoid_derivative(output))\n",
        "      \n",
        "      #Ahora si ajustamos los pesos sinápticos\n",
        "      self.synaptic_weights = self.synaptic_weights + (adjustment*alpha)\n",
        "      return error"
      ],
      "execution_count": 15,
      "outputs": []
    },
    {
      "cell_type": "markdown",
      "metadata": {
        "id": "XFWqqqDHCsfT"
      },
      "source": [
        "###Clase Principal"
      ]
    },
    {
      "cell_type": "code",
      "metadata": {
        "colab": {
          "base_uri": "https://localhost:8080/"
        },
        "id": "BCK5jglP2VtE",
        "outputId": "9aa00a27-944b-4d9b-86a8-38160f69d93b"
      },
      "source": [
        "#Llamamos a un percpetrón\n",
        "#Clase Principal\n",
        "if __name__ == \"__main__\":\n",
        "  #Inicialice (llame) a un perceptrón\n",
        "  perceptron = NeuralNetwork()\n",
        "  print (\"Comprobación de Pesos sinaápticos (randoms)\")\n",
        "  print (perceptron.synaptic_weights)\n",
        "\n",
        "  #contruir nuestro conjunto de entrenamiento \n",
        "  train_X = array([[0,0,1],[1,1,1],[1,0,1],[0,1,1]])#Features\n",
        "  train_y  =  array([[0,1,1,0]]).T                  #Targets\n",
        "\n",
        "  #Entrenar la red neuronal con las parámetros que ya dimos\n",
        "  perceptron.train(train_X, train_y, alpha, epoch)\n",
        "  \n",
        "  print(\"Comprobacion de pesos sinapticos (ya entrenados)\")\n",
        "  print(perceptron.synaptic_weights)\n",
        "\n",
        "  #vamos a comprobar el perceptron con una situacion desconocida\n",
        "  test = array ( [0,0,0] )\n",
        "  print (\"Considerando nuevo caso: \"+ str(test))\n",
        "\n",
        "  #Ahora hacer la inferencia del perceptrón\n",
        "  resultado = perceptron.think(test)\n",
        "  print (\"El perceptron dice que es (inferencia): \"+ str(resultado))\n",
        "  print (\"El perceptron dice que es (normalizado): \"+ str(perceptron.normalize(resultado)))\n"
      ],
      "execution_count": 16,
      "outputs": [
        {
          "output_type": "stream",
          "name": "stdout",
          "text": [
            "Comprobación de Pesos sinaápticos (randoms)\n",
            "[[-0.16595599]\n",
            " [ 0.44064899]\n",
            " [-0.99977125]]\n",
            "Comprobacion de pesos sinapticos (ya entrenados)\n",
            "[[-0.10871398]\n",
            " [ 0.45343158]\n",
            " [-0.96994455]]\n",
            "Considerando nuevo caso: [0 0 0]\n",
            "El perceptron dice que es (inferencia): [0.5]\n",
            "El perceptron dice que es (normalizado): 1\n"
          ]
        }
      ]
    },
    {
      "cell_type": "markdown",
      "metadata": {
        "id": "xu2qsapVKXH9"
      },
      "source": [
        "**Tarea:** Agregue una grafica la cual permita ver la disminucion del error (o la cantidad de aprendizaje) vs el numero de epocas"
      ]
    },
    {
      "cell_type": "markdown",
      "metadata": {
        "id": "pko3QiBiSWuR"
      },
      "source": [
        "###Grafica de Error vs epoch"
      ]
    },
    {
      "cell_type": "code",
      "metadata": {
        "id": "02OPb68cklXQ"
      },
      "source": [
        "DataPlot =  NeuralNetwork()\n",
        "plot__X = []#Lista donde se almacenan las variables de error para graficar\n",
        "list2 = [] \n",
        "for x in range(epoch):#Almacenamos en un array los datos a graficar\n",
        "  lista = DataPlot.train(train_X, train_y, alpha, epoch)#entrenamos la neurona para obtener los datos a graficar\n",
        "  suma_de_pesos = 0#Limpiamos los pesos del ciclo anterior\n",
        "  for i in lista:#iteramos cada posicion de la variable lista\n",
        "    suma_de_pesos  = suma_de_pesos + i #sumamos todos los 4 pesos a la variable lista\n",
        "    \n",
        "  "
      ],
      "execution_count": 12,
      "outputs": []
    },
    {
      "cell_type": "code",
      "metadata": {
        "id": "iDyFYAWup-mf"
      },
      "source": [
        "DataPlot =  NeuralNetwork()\n",
        "plot__X = []#Lista donde 2se almacenan las variables de error para graficar\n",
        "for x in range(epoch):#Almacenamos en un array los datos a graficar\n",
        "  lista = DataPlot.train(train_X, train_y, alpha, epoch)#entrenamos la neurona para obtener los datos a graficar\n",
        "  suma_de_pesos = 0#Limpiamos los pesos del ciclo anterior\n",
        "  for i in lista:#iteramos cada posicion de la variable lista\n",
        "    suma_de_pesos  = suma_de_pesos + i #sumamos todos los 4 pesos a la variable lista\n",
        "  plot__X = suma_de_pesos\n",
        "  print(plot__X)#datos para realizar la grafica\n",
        "  #Intentos fallidos de almacenar los datos en una sola variable  IGNORE LAS SIGUIENTES DOS LINEAS\n",
        "  #plot__X = np.append(suma_de_pesos)\n",
        "  #plot__X[x].append(suma_de_pesos)#Almacenamos el resultado"
      ],
      "execution_count": null,
      "outputs": []
    },
    {
      "cell_type": "code",
      "metadata": {
        "colab": {
          "base_uri": "https://localhost:8080/",
          "height": 295
        },
        "id": "QMpwOxk39EkI",
        "outputId": "4e498fe9-ae2e-4c56-904b-55e85c4d1464"
      },
      "source": [
        "#Alguno valores de los datos optenidos al variar epoch, para graficar manualmente\n",
        "xx=[0.8033,0.1128,-0.0024,-0.0987,-0.1191,-0.1050,-0.0604,-0.0413,-0.0341,-0.0285,-0.023,-0.0190,-0.0178-0.0162,-0.0146,-0.0129,-0.0096,-0.0089,-0.00787]\n",
        "plt.xlabel('EPOCH')#Esta escala no es real\n",
        "plt.ylabel('ERROR')\n",
        "plt.title('Perceptron')\n",
        "plt.grid(True)\n",
        "plt.plot(xx,color='blue')\n",
        "plt.show()"
      ],
      "execution_count": 14,
      "outputs": [
        {
          "output_type": "display_data",
          "data": {
            "image/png": "[encoded data removed]",
            "text/plain": [
              "<Figure size 432x288 with 1 Axes>"
            ]
          },
          "metadata": {
            "needs_background": "light"
          }
        }
      ]
    }
  ]
}